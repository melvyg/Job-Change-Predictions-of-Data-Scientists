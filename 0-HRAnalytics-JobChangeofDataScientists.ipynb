{
 "cells": [
  {
   "cell_type": "markdown",
   "metadata": {},
   "source": [
    "# Import Dependencies"
   ]
  },
  {
   "cell_type": "code",
   "execution_count": 1,
   "metadata": {
    "ExecuteTime": {
     "end_time": "2021-07-16T03:23:42.013651Z",
     "start_time": "2021-07-16T03:23:38.673251Z"
    }
   },
   "outputs": [],
   "source": [
    "# Import standard packages for data manipulation and visualization\n",
    "import pandas as pd\n",
    "import numpy as np\n",
    "import matplotlib.pyplot as plt\n",
    "import seaborn as sns\n",
    "\n",
    "# Import tqdm to help visualize for loop iteration and time\n",
    "from tqdm import tqdm\n",
    "\n",
    "# Use missingno for easy missing data visualizations\n",
    "import missingno as msno\n",
    "\n",
    "# Import sklearn packages\n",
    "from sklearn.ensemble import RandomForestClassifier\n",
    "from sklearn.linear_model import LogisticRegression\n",
    "from sklearn.svm import SVC\n",
    "from sklearn.tree import DecisionTreeClassifier\n",
    "from sklearn.impute import SimpleImputer\n",
    "from sklearn.compose import ColumnTransformer\n",
    "from sklearn.model_selection import train_test_split, cross_val_score, GridSearchCV,RepeatedStratifiedKFold, StratifiedKFold\n",
    "from sklearn.pipeline import Pipeline\n",
    "from sklearn.preprocessing import OrdinalEncoder, OneHotEncoder, PowerTransformer, FunctionTransformer, LabelEncoder\n",
    "\n",
    "from sklearn.metrics import classification_report, plot_confusion_matrix, accuracy_score, precision_recall_curve, f1_score, auc,roc_curve, roc_auc_score\n",
    "\n",
    "import optuna\n",
    "from optuna import visualization\n",
    "import xgboost as xgb\n",
    "\n",
    "import warnings\n",
    "warnings.filterwarnings('ignore')"
   ]
  },
  {
   "cell_type": "markdown",
   "metadata": {},
   "source": [
    "# Read in data"
   ]
  },
  {
   "cell_type": "code",
   "execution_count": 2,
   "metadata": {
    "ExecuteTime": {
     "end_time": "2021-07-16T03:23:42.108070Z",
     "start_time": "2021-07-16T03:23:42.013651Z"
    }
   },
   "outputs": [
    {
     "name": "stdout",
     "output_type": "stream",
     "text": [
      "<class 'pandas.core.frame.DataFrame'>\n",
      "Int64Index: 21287 entries, 0 to 2128\n",
      "Data columns (total 14 columns):\n",
      " #   Column                  Non-Null Count  Dtype  \n",
      "---  ------                  --------------  -----  \n",
      " 0   enrollee_id             21287 non-null  int64  \n",
      " 1   city                    21287 non-null  object \n",
      " 2   city_development_index  21287 non-null  float64\n",
      " 3   gender                  16271 non-null  object \n",
      " 4   relevent_experience     21287 non-null  object \n",
      " 5   enrolled_university     20870 non-null  object \n",
      " 6   education_level         20775 non-null  object \n",
      " 7   major_discipline        18162 non-null  object \n",
      " 8   experience              21217 non-null  object \n",
      " 9   company_size            14727 non-null  object \n",
      " 10  company_type            14513 non-null  object \n",
      " 11  last_new_job            20824 non-null  object \n",
      " 12  training_hours          21287 non-null  int64  \n",
      " 13  target                  19158 non-null  float64\n",
      "dtypes: float64(2), int64(2), object(10)\n",
      "memory usage: 2.4+ MB\n"
     ]
    },
    {
     "data": {
      "text/html": [
       "<div>\n",
       "<style scoped>\n",
       "    .dataframe tbody tr th:only-of-type {\n",
       "        vertical-align: middle;\n",
       "    }\n",
       "\n",
       "    .dataframe tbody tr th {\n",
       "        vertical-align: top;\n",
       "    }\n",
       "\n",
       "    .dataframe thead th {\n",
       "        text-align: right;\n",
       "    }\n",
       "</style>\n",
       "<table border=\"1\" class=\"dataframe\">\n",
       "  <thead>\n",
       "    <tr style=\"text-align: right;\">\n",
       "      <th></th>\n",
       "      <th>enrollee_id</th>\n",
       "      <th>city</th>\n",
       "      <th>city_development_index</th>\n",
       "      <th>gender</th>\n",
       "      <th>relevent_experience</th>\n",
       "      <th>enrolled_university</th>\n",
       "      <th>education_level</th>\n",
       "      <th>major_discipline</th>\n",
       "      <th>experience</th>\n",
       "      <th>company_size</th>\n",
       "      <th>company_type</th>\n",
       "      <th>last_new_job</th>\n",
       "      <th>training_hours</th>\n",
       "      <th>target</th>\n",
       "    </tr>\n",
       "  </thead>\n",
       "  <tbody>\n",
       "    <tr>\n",
       "      <th>0</th>\n",
       "      <td>8949</td>\n",
       "      <td>city_103</td>\n",
       "      <td>0.920</td>\n",
       "      <td>Male</td>\n",
       "      <td>Has relevent experience</td>\n",
       "      <td>no_enrollment</td>\n",
       "      <td>Graduate</td>\n",
       "      <td>STEM</td>\n",
       "      <td>&gt;20</td>\n",
       "      <td>NaN</td>\n",
       "      <td>NaN</td>\n",
       "      <td>1</td>\n",
       "      <td>36</td>\n",
       "      <td>1.0</td>\n",
       "    </tr>\n",
       "    <tr>\n",
       "      <th>1</th>\n",
       "      <td>29725</td>\n",
       "      <td>city_40</td>\n",
       "      <td>0.776</td>\n",
       "      <td>Male</td>\n",
       "      <td>No relevent experience</td>\n",
       "      <td>no_enrollment</td>\n",
       "      <td>Graduate</td>\n",
       "      <td>STEM</td>\n",
       "      <td>15</td>\n",
       "      <td>50-99</td>\n",
       "      <td>Pvt Ltd</td>\n",
       "      <td>&gt;4</td>\n",
       "      <td>47</td>\n",
       "      <td>0.0</td>\n",
       "    </tr>\n",
       "    <tr>\n",
       "      <th>2</th>\n",
       "      <td>11561</td>\n",
       "      <td>city_21</td>\n",
       "      <td>0.624</td>\n",
       "      <td>NaN</td>\n",
       "      <td>No relevent experience</td>\n",
       "      <td>Full time course</td>\n",
       "      <td>Graduate</td>\n",
       "      <td>STEM</td>\n",
       "      <td>5</td>\n",
       "      <td>NaN</td>\n",
       "      <td>NaN</td>\n",
       "      <td>never</td>\n",
       "      <td>83</td>\n",
       "      <td>0.0</td>\n",
       "    </tr>\n",
       "    <tr>\n",
       "      <th>3</th>\n",
       "      <td>33241</td>\n",
       "      <td>city_115</td>\n",
       "      <td>0.789</td>\n",
       "      <td>NaN</td>\n",
       "      <td>No relevent experience</td>\n",
       "      <td>NaN</td>\n",
       "      <td>Graduate</td>\n",
       "      <td>Business Degree</td>\n",
       "      <td>&lt;1</td>\n",
       "      <td>NaN</td>\n",
       "      <td>Pvt Ltd</td>\n",
       "      <td>never</td>\n",
       "      <td>52</td>\n",
       "      <td>1.0</td>\n",
       "    </tr>\n",
       "    <tr>\n",
       "      <th>4</th>\n",
       "      <td>666</td>\n",
       "      <td>city_162</td>\n",
       "      <td>0.767</td>\n",
       "      <td>Male</td>\n",
       "      <td>Has relevent experience</td>\n",
       "      <td>no_enrollment</td>\n",
       "      <td>Masters</td>\n",
       "      <td>STEM</td>\n",
       "      <td>&gt;20</td>\n",
       "      <td>50-99</td>\n",
       "      <td>Funded Startup</td>\n",
       "      <td>4</td>\n",
       "      <td>8</td>\n",
       "      <td>0.0</td>\n",
       "    </tr>\n",
       "  </tbody>\n",
       "</table>\n",
       "</div>"
      ],
      "text/plain": [
       "   enrollee_id      city  city_development_index gender  \\\n",
       "0         8949  city_103                   0.920   Male   \n",
       "1        29725   city_40                   0.776   Male   \n",
       "2        11561   city_21                   0.624    NaN   \n",
       "3        33241  city_115                   0.789    NaN   \n",
       "4          666  city_162                   0.767   Male   \n",
       "\n",
       "       relevent_experience enrolled_university education_level  \\\n",
       "0  Has relevent experience       no_enrollment        Graduate   \n",
       "1   No relevent experience       no_enrollment        Graduate   \n",
       "2   No relevent experience    Full time course        Graduate   \n",
       "3   No relevent experience                 NaN        Graduate   \n",
       "4  Has relevent experience       no_enrollment         Masters   \n",
       "\n",
       "  major_discipline experience company_size    company_type last_new_job  \\\n",
       "0             STEM        >20          NaN             NaN            1   \n",
       "1             STEM         15        50-99         Pvt Ltd           >4   \n",
       "2             STEM          5          NaN             NaN        never   \n",
       "3  Business Degree         <1          NaN         Pvt Ltd        never   \n",
       "4             STEM        >20        50-99  Funded Startup            4   \n",
       "\n",
       "   training_hours  target  \n",
       "0              36     1.0  \n",
       "1              47     0.0  \n",
       "2              83     0.0  \n",
       "3              52     1.0  \n",
       "4               8     0.0  "
      ]
     },
     "execution_count": 2,
     "metadata": {},
     "output_type": "execute_result"
    }
   ],
   "source": [
    "# Read in HR data\n",
    "df_aug_train = pd.read_csv('aug_train.csv')\n",
    "df_aug_test = pd.read_csv('aug_test.csv')\n",
    "\n",
    "df = pd.concat( [df_aug_train, df_aug_test] )\n",
    "\n",
    "# Observe details about dataset \n",
    "df.info()\n",
    "\n",
    "# Peek at data\n",
    "df.head()"
   ]
  },
  {
   "cell_type": "markdown",
   "metadata": {},
   "source": [
    "# Data Quality Check"
   ]
  },
  {
   "cell_type": "code",
   "execution_count": 3,
   "metadata": {
    "ExecuteTime": {
     "end_time": "2021-07-16T03:23:42.124013Z",
     "start_time": "2021-07-16T03:23:42.110026Z"
    }
   },
   "outputs": [
    {
     "data": {
      "text/plain": [
       "(21287, 14)"
      ]
     },
     "execution_count": 3,
     "metadata": {},
     "output_type": "execute_result"
    }
   ],
   "source": [
    "# Check shape of data\n",
    "df.shape"
   ]
  },
  {
   "cell_type": "code",
   "execution_count": 4,
   "metadata": {
    "ExecuteTime": {
     "end_time": "2021-07-16T03:23:42.155881Z",
     "start_time": "2021-07-16T03:23:42.124974Z"
    }
   },
   "outputs": [
    {
     "data": {
      "text/plain": [
       "enrollee_id                0.000000\n",
       "city                       0.000000\n",
       "city_development_index     0.000000\n",
       "gender                    23.563677\n",
       "relevent_experience        0.000000\n",
       "enrolled_university        1.958942\n",
       "education_level            2.405224\n",
       "major_discipline          14.680321\n",
       "experience                 0.328839\n",
       "company_size              30.816931\n",
       "company_type              31.822239\n",
       "last_new_job               2.175036\n",
       "training_hours             0.000000\n",
       "target                    10.001409\n",
       "dtype: float64"
      ]
     },
     "execution_count": 4,
     "metadata": {},
     "output_type": "execute_result"
    }
   ],
   "source": [
    "# Check for missing value percentage\n",
    "( df.isnull().sum() / df.shape[0] )*100"
   ]
  },
  {
   "cell_type": "code",
   "execution_count": 5,
   "metadata": {
    "ExecuteTime": {
     "end_time": "2021-07-16T03:23:42.171827Z",
     "start_time": "2021-07-16T03:23:42.157864Z"
    }
   },
   "outputs": [],
   "source": [
    "# Drop rows where target value is missing\n",
    "df.dropna(subset=['target'],inplace=True)\n",
    "\n",
    "# Convert target to int type\n",
    "df['target'] = df['target'].astype('int')"
   ]
  },
  {
   "cell_type": "code",
   "execution_count": 6,
   "metadata": {
    "ExecuteTime": {
     "end_time": "2021-07-16T03:23:44.991073Z",
     "start_time": "2021-07-16T03:23:42.173812Z"
    },
    "scrolled": false
   },
   "outputs": [
    {
     "data": {
      "image/png": "[encoded data removed]",
      "text/plain": [
       "<Figure size 1800x720 with 2 Axes>"
      ]
     },
     "metadata": {
      "needs_background": "light"
     },
     "output_type": "display_data"
    }
   ],
   "source": [
    "# Inspect missing values\n",
    "msno.matrix(df)\n",
    "\n",
    "plt.savefig('MissingValueMatrix.jpg',dpi=300, bbox_inches = 'tight');"
   ]
  },
  {
   "cell_type": "markdown",
   "metadata": {},
   "source": [
    "Most missing values seem to come from 4 features: company_type, company_size, gender, and major_discipline \n",
    "\n",
    "Because of the amount of missing columns, we will attempt a couple of methods to working with the missing data.\n",
    "\n",
    "1. Use a Sklearn's SimpleImputer and replace missing values with 'most frequent'\n",
    "2. Create an entirely new category called 'missing'\n",
    "\n",
    "We will use these two methods for our pipeline.\n",
    "\n",
    "Before imputing data, perform initial exploratory analysis."
   ]
  },
  {
   "cell_type": "markdown",
   "metadata": {},
   "source": [
    "# Exploratory data analysis"
   ]
  },
  {
   "cell_type": "code",
   "execution_count": 7,
   "metadata": {
    "ExecuteTime": {
     "end_time": "2021-07-16T03:23:45.036915Z",
     "start_time": "2021-07-16T03:23:44.995065Z"
    }
   },
   "outputs": [
    {
     "data": {
      "text/html": [
       "<div>\n",
       "<style scoped>\n",
       "    .dataframe tbody tr th:only-of-type {\n",
       "        vertical-align: middle;\n",
       "    }\n",
       "\n",
       "    .dataframe tbody tr th {\n",
       "        vertical-align: top;\n",
       "    }\n",
       "\n",
       "    .dataframe thead th {\n",
       "        text-align: right;\n",
       "    }\n",
       "</style>\n",
       "<table border=\"1\" class=\"dataframe\">\n",
       "  <thead>\n",
       "    <tr style=\"text-align: right;\">\n",
       "      <th></th>\n",
       "      <th>index</th>\n",
       "      <th>target</th>\n",
       "    </tr>\n",
       "  </thead>\n",
       "  <tbody>\n",
       "    <tr>\n",
       "      <th>0</th>\n",
       "      <td>0</td>\n",
       "      <td>14381</td>\n",
       "    </tr>\n",
       "    <tr>\n",
       "      <th>1</th>\n",
       "      <td>1</td>\n",
       "      <td>4777</td>\n",
       "    </tr>\n",
       "  </tbody>\n",
       "</table>\n",
       "</div>"
      ],
      "text/plain": [
       "   index  target\n",
       "0      0   14381\n",
       "1      1    4777"
      ]
     },
     "execution_count": 7,
     "metadata": {},
     "output_type": "execute_result"
    }
   ],
   "source": [
    "# Observe target distribution\n",
    "pd.DataFrame(df.target.value_counts()).reset_index()"
   ]
  },
  {
   "cell_type": "code",
   "execution_count": 8,
   "metadata": {
    "ExecuteTime": {
     "end_time": "2021-07-16T03:23:45.347931Z",
     "start_time": "2021-07-16T03:23:45.039906Z"
    }
   },
   "outputs": [
    {
     "data": {
      "image/png": "[encoded data removed]",
      "text/plain": [
       "<Figure size 432x288 with 1 Axes>"
      ]
     },
     "metadata": {
      "needs_background": "light"
     },
     "output_type": "display_data"
    }
   ],
   "source": [
    "# Plot target distribution\n",
    "plot_target_bar = pd.DataFrame(df.target.value_counts()).reset_index()\n",
    "x, y = plot_target_bar['index'].astype(str), plot_target_bar['target']\n",
    "plt.ylabel('Target Class')\n",
    "plt.xlabel('Number of Instances')\n",
    "plt.title('Target Class Distribution')\n",
    "plt.barh(x,y)\n",
    "\n",
    "plt.savefig('TargetDistribution.jpg',dpi=300, bbox_inches = 'tight');"
   ]
  },
  {
   "cell_type": "markdown",
   "metadata": {},
   "source": [
    "As we can see, there is large imbalance between our target variables with our 0 class making up as much as 75% of the total number of instances in the dataset. Therefore, when evaluating our models, we need to not only include accuracy as a metric, but also precision and recall."
   ]
  },
  {
   "cell_type": "code",
   "execution_count": 9,
   "metadata": {
    "ExecuteTime": {
     "end_time": "2021-07-16T03:23:45.379769Z",
     "start_time": "2021-07-16T03:23:45.349868Z"
    }
   },
   "outputs": [
    {
     "data": {
      "text/html": [
       "<div>\n",
       "<style scoped>\n",
       "    .dataframe tbody tr th:only-of-type {\n",
       "        vertical-align: middle;\n",
       "    }\n",
       "\n",
       "    .dataframe tbody tr th {\n",
       "        vertical-align: top;\n",
       "    }\n",
       "\n",
       "    .dataframe thead th {\n",
       "        text-align: right;\n",
       "    }\n",
       "</style>\n",
       "<table border=\"1\" class=\"dataframe\">\n",
       "  <thead>\n",
       "    <tr style=\"text-align: right;\">\n",
       "      <th></th>\n",
       "      <th>enrollee_id</th>\n",
       "      <th>city</th>\n",
       "      <th>city_development_index</th>\n",
       "      <th>gender</th>\n",
       "      <th>relevent_experience</th>\n",
       "      <th>enrolled_university</th>\n",
       "      <th>education_level</th>\n",
       "      <th>major_discipline</th>\n",
       "      <th>experience</th>\n",
       "      <th>company_size</th>\n",
       "      <th>company_type</th>\n",
       "      <th>last_new_job</th>\n",
       "      <th>training_hours</th>\n",
       "      <th>target</th>\n",
       "    </tr>\n",
       "  </thead>\n",
       "  <tbody>\n",
       "    <tr>\n",
       "      <th>0</th>\n",
       "      <td>8949</td>\n",
       "      <td>city_103</td>\n",
       "      <td>0.920</td>\n",
       "      <td>Male</td>\n",
       "      <td>Has relevent experience</td>\n",
       "      <td>no_enrollment</td>\n",
       "      <td>Graduate</td>\n",
       "      <td>STEM</td>\n",
       "      <td>&gt;20</td>\n",
       "      <td>NaN</td>\n",
       "      <td>NaN</td>\n",
       "      <td>1</td>\n",
       "      <td>36</td>\n",
       "      <td>1</td>\n",
       "    </tr>\n",
       "    <tr>\n",
       "      <th>1</th>\n",
       "      <td>29725</td>\n",
       "      <td>city_40</td>\n",
       "      <td>0.776</td>\n",
       "      <td>Male</td>\n",
       "      <td>No relevent experience</td>\n",
       "      <td>no_enrollment</td>\n",
       "      <td>Graduate</td>\n",
       "      <td>STEM</td>\n",
       "      <td>15</td>\n",
       "      <td>50-99</td>\n",
       "      <td>Pvt Ltd</td>\n",
       "      <td>&gt;4</td>\n",
       "      <td>47</td>\n",
       "      <td>0</td>\n",
       "    </tr>\n",
       "    <tr>\n",
       "      <th>2</th>\n",
       "      <td>11561</td>\n",
       "      <td>city_21</td>\n",
       "      <td>0.624</td>\n",
       "      <td>NaN</td>\n",
       "      <td>No relevent experience</td>\n",
       "      <td>Full time course</td>\n",
       "      <td>Graduate</td>\n",
       "      <td>STEM</td>\n",
       "      <td>5</td>\n",
       "      <td>NaN</td>\n",
       "      <td>NaN</td>\n",
       "      <td>never</td>\n",
       "      <td>83</td>\n",
       "      <td>0</td>\n",
       "    </tr>\n",
       "    <tr>\n",
       "      <th>3</th>\n",
       "      <td>33241</td>\n",
       "      <td>city_115</td>\n",
       "      <td>0.789</td>\n",
       "      <td>NaN</td>\n",
       "      <td>No relevent experience</td>\n",
       "      <td>NaN</td>\n",
       "      <td>Graduate</td>\n",
       "      <td>Business Degree</td>\n",
       "      <td>&lt;1</td>\n",
       "      <td>NaN</td>\n",
       "      <td>Pvt Ltd</td>\n",
       "      <td>never</td>\n",
       "      <td>52</td>\n",
       "      <td>1</td>\n",
       "    </tr>\n",
       "    <tr>\n",
       "      <th>4</th>\n",
       "      <td>666</td>\n",
       "      <td>city_162</td>\n",
       "      <td>0.767</td>\n",
       "      <td>Male</td>\n",
       "      <td>Has relevent experience</td>\n",
       "      <td>no_enrollment</td>\n",
       "      <td>Masters</td>\n",
       "      <td>STEM</td>\n",
       "      <td>&gt;20</td>\n",
       "      <td>50-99</td>\n",
       "      <td>Funded Startup</td>\n",
       "      <td>4</td>\n",
       "      <td>8</td>\n",
       "      <td>0</td>\n",
       "    </tr>\n",
       "  </tbody>\n",
       "</table>\n",
       "</div>"
      ],
      "text/plain": [
       "   enrollee_id      city  city_development_index gender  \\\n",
       "0         8949  city_103                   0.920   Male   \n",
       "1        29725   city_40                   0.776   Male   \n",
       "2        11561   city_21                   0.624    NaN   \n",
       "3        33241  city_115                   0.789    NaN   \n",
       "4          666  city_162                   0.767   Male   \n",
       "\n",
       "       relevent_experience enrolled_university education_level  \\\n",
       "0  Has relevent experience       no_enrollment        Graduate   \n",
       "1   No relevent experience       no_enrollment        Graduate   \n",
       "2   No relevent experience    Full time course        Graduate   \n",
       "3   No relevent experience                 NaN        Graduate   \n",
       "4  Has relevent experience       no_enrollment         Masters   \n",
       "\n",
       "  major_discipline experience company_size    company_type last_new_job  \\\n",
       "0             STEM        >20          NaN             NaN            1   \n",
       "1             STEM         15        50-99         Pvt Ltd           >4   \n",
       "2             STEM          5          NaN             NaN        never   \n",
       "3  Business Degree         <1          NaN         Pvt Ltd        never   \n",
       "4             STEM        >20        50-99  Funded Startup            4   \n",
       "\n",
       "   training_hours  target  \n",
       "0              36       1  \n",
       "1              47       0  \n",
       "2              83       0  \n",
       "3              52       1  \n",
       "4               8       0  "
      ]
     },
     "execution_count": 9,
     "metadata": {},
     "output_type": "execute_result"
    }
   ],
   "source": [
    "# Peek data\n",
    "df.head()"
   ]
  },
  {
   "cell_type": "markdown",
   "metadata": {},
   "source": [
    "## Observe for Skewed Data"
   ]
  },
  {
   "cell_type": "code",
   "execution_count": 10,
   "metadata": {
    "ExecuteTime": {
     "end_time": "2021-07-16T03:23:45.410718Z",
     "start_time": "2021-07-16T03:23:45.381763Z"
    }
   },
   "outputs": [
    {
     "data": {
      "text/html": [
       "<div>\n",
       "<style scoped>\n",
       "    .dataframe tbody tr th:only-of-type {\n",
       "        vertical-align: middle;\n",
       "    }\n",
       "\n",
       "    .dataframe tbody tr th {\n",
       "        vertical-align: top;\n",
       "    }\n",
       "\n",
       "    .dataframe thead th {\n",
       "        text-align: right;\n",
       "    }\n",
       "</style>\n",
       "<table border=\"1\" class=\"dataframe\">\n",
       "  <thead>\n",
       "    <tr style=\"text-align: right;\">\n",
       "      <th></th>\n",
       "      <th>Skew</th>\n",
       "    </tr>\n",
       "  </thead>\n",
       "  <tbody>\n",
       "    <tr>\n",
       "      <th>training_hours</th>\n",
       "      <td>1.819237</td>\n",
       "    </tr>\n",
       "    <tr>\n",
       "      <th>target</th>\n",
       "      <td>1.158815</td>\n",
       "    </tr>\n",
       "    <tr>\n",
       "      <th>enrollee_id</th>\n",
       "      <td>-0.018391</td>\n",
       "    </tr>\n",
       "    <tr>\n",
       "      <th>city_development_index</th>\n",
       "      <td>-0.995428</td>\n",
       "    </tr>\n",
       "  </tbody>\n",
       "</table>\n",
       "</div>"
      ],
      "text/plain": [
       "                            Skew\n",
       "training_hours          1.819237\n",
       "target                  1.158815\n",
       "enrollee_id            -0.018391\n",
       "city_development_index -0.995428"
      ]
     },
     "execution_count": 10,
     "metadata": {},
     "output_type": "execute_result"
    }
   ],
   "source": [
    "num_feats = df.dtypes[ df.dtypes!='object' ].index\n",
    "skew_feats = df[num_feats].skew().sort_values(ascending=False)\n",
    "skewness=pd.DataFrame({'Skew':skew_feats})\n",
    "skewness"
   ]
  },
  {
   "cell_type": "markdown",
   "metadata": {},
   "source": [
    "We will pay attention specifically to training_hours and city_development_index."
   ]
  },
  {
   "cell_type": "code",
   "execution_count": 11,
   "metadata": {
    "ExecuteTime": {
     "end_time": "2021-07-16T03:23:46.023491Z",
     "start_time": "2021-07-16T03:23:45.411662Z"
    }
   },
   "outputs": [
    {
     "data": {
      "image/png": "[encoded data removed]",
      "text/plain": [
       "<Figure size 432x288 with 1 Axes>"
      ]
     },
     "metadata": {
      "needs_background": "light"
     },
     "output_type": "display_data"
    }
   ],
   "source": [
    "training_hours = df['training_hours']\n",
    "sns.distplot(training_hours)\n",
    "plt.title('Training Hours Distribution Plot - Before Transformation')\n",
    "\n",
    "plt.savefig('TrainingHours_BeforeTransformation.jpg',dpi=300, bbox_inches = 'tight');"
   ]
  },
  {
   "cell_type": "markdown",
   "metadata": {},
   "source": [
    "There is an apparent right skew in training hours that we should address for our model. Let's observe how applying a log transformation could make the distribution more gaussian."
   ]
  },
  {
   "cell_type": "code",
   "execution_count": 12,
   "metadata": {
    "ExecuteTime": {
     "end_time": "2021-07-16T03:23:46.573098Z",
     "start_time": "2021-07-16T03:23:46.025486Z"
    }
   },
   "outputs": [
    {
     "data": {
      "image/png": "[encoded data removed]",
      "text/plain": [
       "<Figure size 432x288 with 1 Axes>"
      ]
     },
     "metadata": {
      "needs_background": "light"
     },
     "output_type": "display_data"
    }
   ],
   "source": [
    "log_training_hours = np.log(df['training_hours'])\n",
    "sns.distplot(log_training_hours)\n",
    "plt.title('Training Hours Distribution - Log Transformation')\n",
    "\n",
    "plt.savefig('TrainingHours_AfterTransformation.jpg',dpi=300, bbox_inches = 'tight');"
   ]
  },
  {
   "cell_type": "markdown",
   "metadata": {},
   "source": [
    "Applying a log transformation towards the training hours column appears to make the distribution more gaussian and suitable for modeling purposes."
   ]
  },
  {
   "cell_type": "code",
   "execution_count": 13,
   "metadata": {
    "ExecuteTime": {
     "end_time": "2021-07-16T03:23:47.125494Z",
     "start_time": "2021-07-16T03:23:46.575092Z"
    }
   },
   "outputs": [
    {
     "data": {
      "image/png": "[encoded data removed]",
      "text/plain": [
       "<Figure size 432x288 with 1 Axes>"
      ]
     },
     "metadata": {
      "needs_background": "light"
     },
     "output_type": "display_data"
    }
   ],
   "source": [
    "city_dev_index = df['city_development_index']\n",
    "sns.distplot(city_dev_index)\n",
    "plt.title('City Development Index Distribution Plot - Before Transformation')\n",
    "\n",
    "plt.savefig('CityDevIndex_BeforeTransformation.jpg',dpi=300, bbox_inches = 'tight');"
   ]
  },
  {
   "cell_type": "markdown",
   "metadata": {},
   "source": [
    "There appears to be a bimodal peaks with a left skew on the city_development_index column. Let's aim to apply a few transformation to address this in our pipeline."
   ]
  },
  {
   "cell_type": "code",
   "execution_count": 14,
   "metadata": {
    "ExecuteTime": {
     "end_time": "2021-07-16T03:23:47.641867Z",
     "start_time": "2021-07-16T03:23:47.126492Z"
    }
   },
   "outputs": [
    {
     "data": {
      "image/png": "[encoded data removed]",
      "text/plain": [
       "<Figure size 432x288 with 1 Axes>"
      ]
     },
     "metadata": {
      "needs_background": "light"
     },
     "output_type": "display_data"
    }
   ],
   "source": [
    "log_city_dev_index = np.log(df['city_development_index'])\n",
    "sns.distplot(log_city_dev_index)\n",
    "plt.title('Log City Development Index Distribution Plot');"
   ]
  },
  {
   "cell_type": "markdown",
   "metadata": {},
   "source": [
    "The log transformation on the city_development_index column appeared to not have a major impact to making the distribution more gaussian. We will aim other transformation methods"
   ]
  },
  {
   "cell_type": "code",
   "execution_count": 15,
   "metadata": {
    "ExecuteTime": {
     "end_time": "2021-07-16T03:23:47.689738Z",
     "start_time": "2021-07-16T03:23:47.643831Z"
    }
   },
   "outputs": [],
   "source": [
    "power = PowerTransformer(method='yeo-johnson', standardize=True)\n",
    "pwr_city_dev = power.fit_transform( df[['city_development_index']] )"
   ]
  },
  {
   "cell_type": "code",
   "execution_count": 16,
   "metadata": {
    "ExecuteTime": {
     "end_time": "2021-07-16T03:23:48.324610Z",
     "start_time": "2021-07-16T03:23:47.692737Z"
    }
   },
   "outputs": [
    {
     "data": {
      "image/png": "[encoded data removed]",
      "text/plain": [
       "<Figure size 432x288 with 1 Axes>"
      ]
     },
     "metadata": {
      "needs_background": "light"
     },
     "output_type": "display_data"
    }
   ],
   "source": [
    "sns.distplot(pwr_city_dev)\n",
    "plt.title('City Development Index - Power Transformation')\n",
    "\n",
    "plt.savefig('CityDevIndex_AfterTransformation.jpg',dpi=300, bbox_inches = 'tight');"
   ]
  },
  {
   "cell_type": "markdown",
   "metadata": {},
   "source": [
    "A power transformation appears to work better in making the distribution more gaussian. The bimodal peak is still apparent."
   ]
  },
  {
   "cell_type": "code",
   "execution_count": 17,
   "metadata": {
    "ExecuteTime": {
     "end_time": "2021-07-16T03:23:48.354512Z",
     "start_time": "2021-07-16T03:23:48.326605Z"
    }
   },
   "outputs": [
    {
     "data": {
      "text/html": [
       "<div>\n",
       "<style scoped>\n",
       "    .dataframe tbody tr th:only-of-type {\n",
       "        vertical-align: middle;\n",
       "    }\n",
       "\n",
       "    .dataframe tbody tr th {\n",
       "        vertical-align: top;\n",
       "    }\n",
       "\n",
       "    .dataframe thead th {\n",
       "        text-align: right;\n",
       "    }\n",
       "</style>\n",
       "<table border=\"1\" class=\"dataframe\">\n",
       "  <thead>\n",
       "    <tr style=\"text-align: right;\">\n",
       "      <th></th>\n",
       "      <th>city_development_index</th>\n",
       "      <th>training_hours</th>\n",
       "      <th>target</th>\n",
       "    </tr>\n",
       "  </thead>\n",
       "  <tbody>\n",
       "    <tr>\n",
       "      <th>city_development_index</th>\n",
       "      <td>1.000000</td>\n",
       "      <td>0.001920</td>\n",
       "      <td>-0.341665</td>\n",
       "    </tr>\n",
       "    <tr>\n",
       "      <th>training_hours</th>\n",
       "      <td>0.001920</td>\n",
       "      <td>1.000000</td>\n",
       "      <td>-0.021577</td>\n",
       "    </tr>\n",
       "    <tr>\n",
       "      <th>target</th>\n",
       "      <td>-0.341665</td>\n",
       "      <td>-0.021577</td>\n",
       "      <td>1.000000</td>\n",
       "    </tr>\n",
       "  </tbody>\n",
       "</table>\n",
       "</div>"
      ],
      "text/plain": [
       "                        city_development_index  training_hours    target\n",
       "city_development_index                1.000000        0.001920 -0.341665\n",
       "training_hours                        0.001920        1.000000 -0.021577\n",
       "target                               -0.341665       -0.021577  1.000000"
      ]
     },
     "execution_count": 17,
     "metadata": {},
     "output_type": "execute_result"
    }
   ],
   "source": [
    "# Check for any apparent correlations -- specifically around city_development_index and training_hours\n",
    "df[[x for x in df.columns if x != 'enrollee_id']].corr()"
   ]
  },
  {
   "cell_type": "markdown",
   "metadata": {},
   "source": [
    "We are able to observe there is no significant correlation between the numeric variables and our target. The feature with the highest correlation is city_development_index."
   ]
  },
  {
   "cell_type": "markdown",
   "metadata": {},
   "source": [
    "We observe an imbalance with our target. The imbalance is something we should address using stratified Kfold"
   ]
  },
  {
   "cell_type": "code",
   "execution_count": 18,
   "metadata": {
    "ExecuteTime": {
     "end_time": "2021-07-16T03:23:48.386410Z",
     "start_time": "2021-07-16T03:23:48.356505Z"
    }
   },
   "outputs": [
    {
     "data": {
      "text/html": [
       "<div>\n",
       "<style scoped>\n",
       "    .dataframe tbody tr th:only-of-type {\n",
       "        vertical-align: middle;\n",
       "    }\n",
       "\n",
       "    .dataframe tbody tr th {\n",
       "        vertical-align: top;\n",
       "    }\n",
       "\n",
       "    .dataframe thead th {\n",
       "        text-align: right;\n",
       "    }\n",
       "</style>\n",
       "<table border=\"1\" class=\"dataframe\">\n",
       "  <thead>\n",
       "    <tr style=\"text-align: right;\">\n",
       "      <th></th>\n",
       "      <th>city</th>\n",
       "      <th>city_development_index</th>\n",
       "      <th>relevent_experience</th>\n",
       "      <th>enrolled_university</th>\n",
       "      <th>education_level</th>\n",
       "      <th>major_discipline</th>\n",
       "      <th>experience</th>\n",
       "      <th>company_size</th>\n",
       "      <th>company_type</th>\n",
       "      <th>last_new_job</th>\n",
       "      <th>training_hours</th>\n",
       "      <th>target</th>\n",
       "    </tr>\n",
       "  </thead>\n",
       "  <tbody>\n",
       "    <tr>\n",
       "      <th>0</th>\n",
       "      <td>city_103</td>\n",
       "      <td>0.920</td>\n",
       "      <td>Has relevent experience</td>\n",
       "      <td>no_enrollment</td>\n",
       "      <td>Graduate</td>\n",
       "      <td>STEM</td>\n",
       "      <td>&gt;20</td>\n",
       "      <td>NaN</td>\n",
       "      <td>NaN</td>\n",
       "      <td>1</td>\n",
       "      <td>36</td>\n",
       "      <td>1</td>\n",
       "    </tr>\n",
       "    <tr>\n",
       "      <th>1</th>\n",
       "      <td>city_40</td>\n",
       "      <td>0.776</td>\n",
       "      <td>No relevent experience</td>\n",
       "      <td>no_enrollment</td>\n",
       "      <td>Graduate</td>\n",
       "      <td>STEM</td>\n",
       "      <td>15</td>\n",
       "      <td>50-99</td>\n",
       "      <td>Pvt Ltd</td>\n",
       "      <td>&gt;4</td>\n",
       "      <td>47</td>\n",
       "      <td>0</td>\n",
       "    </tr>\n",
       "    <tr>\n",
       "      <th>2</th>\n",
       "      <td>city_21</td>\n",
       "      <td>0.624</td>\n",
       "      <td>No relevent experience</td>\n",
       "      <td>Full time course</td>\n",
       "      <td>Graduate</td>\n",
       "      <td>STEM</td>\n",
       "      <td>5</td>\n",
       "      <td>NaN</td>\n",
       "      <td>NaN</td>\n",
       "      <td>never</td>\n",
       "      <td>83</td>\n",
       "      <td>0</td>\n",
       "    </tr>\n",
       "    <tr>\n",
       "      <th>3</th>\n",
       "      <td>city_115</td>\n",
       "      <td>0.789</td>\n",
       "      <td>No relevent experience</td>\n",
       "      <td>NaN</td>\n",
       "      <td>Graduate</td>\n",
       "      <td>Business Degree</td>\n",
       "      <td>&lt;1</td>\n",
       "      <td>NaN</td>\n",
       "      <td>Pvt Ltd</td>\n",
       "      <td>never</td>\n",
       "      <td>52</td>\n",
       "      <td>1</td>\n",
       "    </tr>\n",
       "    <tr>\n",
       "      <th>4</th>\n",
       "      <td>city_162</td>\n",
       "      <td>0.767</td>\n",
       "      <td>Has relevent experience</td>\n",
       "      <td>no_enrollment</td>\n",
       "      <td>Masters</td>\n",
       "      <td>STEM</td>\n",
       "      <td>&gt;20</td>\n",
       "      <td>50-99</td>\n",
       "      <td>Funded Startup</td>\n",
       "      <td>4</td>\n",
       "      <td>8</td>\n",
       "      <td>0</td>\n",
       "    </tr>\n",
       "  </tbody>\n",
       "</table>\n",
       "</div>"
      ],
      "text/plain": [
       "       city  city_development_index      relevent_experience  \\\n",
       "0  city_103                   0.920  Has relevent experience   \n",
       "1   city_40                   0.776   No relevent experience   \n",
       "2   city_21                   0.624   No relevent experience   \n",
       "3  city_115                   0.789   No relevent experience   \n",
       "4  city_162                   0.767  Has relevent experience   \n",
       "\n",
       "  enrolled_university education_level major_discipline experience  \\\n",
       "0       no_enrollment        Graduate             STEM        >20   \n",
       "1       no_enrollment        Graduate             STEM         15   \n",
       "2    Full time course        Graduate             STEM          5   \n",
       "3                 NaN        Graduate  Business Degree         <1   \n",
       "4       no_enrollment         Masters             STEM        >20   \n",
       "\n",
       "  company_size    company_type last_new_job  training_hours  target  \n",
       "0          NaN             NaN            1              36       1  \n",
       "1        50-99         Pvt Ltd           >4              47       0  \n",
       "2          NaN             NaN        never              83       0  \n",
       "3          NaN         Pvt Ltd        never              52       1  \n",
       "4        50-99  Funded Startup            4               8       0  "
      ]
     },
     "execution_count": 18,
     "metadata": {},
     "output_type": "execute_result"
    }
   ],
   "source": [
    "# Drop gender column to prevent against gender bias\n",
    "df.drop(['enrollee_id','gender'],axis=1,inplace=True)\n",
    "\n",
    "df.head()"
   ]
  },
  {
   "cell_type": "markdown",
   "metadata": {},
   "source": [
    "Since the majority of the columns in the data are categorical, let us organize the columns into nominal and ordinal types to encode them appropriately."
   ]
  },
  {
   "cell_type": "markdown",
   "metadata": {},
   "source": [
    "# Set Categorical Encoding"
   ]
  },
  {
   "cell_type": "code",
   "execution_count": 19,
   "metadata": {
    "ExecuteTime": {
     "end_time": "2021-07-16T03:23:48.417327Z",
     "start_time": "2021-07-16T03:23:48.387400Z"
    }
   },
   "outputs": [
    {
     "data": {
      "text/html": [
       "<div>\n",
       "<style scoped>\n",
       "    .dataframe tbody tr th:only-of-type {\n",
       "        vertical-align: middle;\n",
       "    }\n",
       "\n",
       "    .dataframe tbody tr th {\n",
       "        vertical-align: top;\n",
       "    }\n",
       "\n",
       "    .dataframe thead th {\n",
       "        text-align: right;\n",
       "    }\n",
       "</style>\n",
       "<table border=\"1\" class=\"dataframe\">\n",
       "  <thead>\n",
       "    <tr style=\"text-align: right;\">\n",
       "      <th></th>\n",
       "      <th>city</th>\n",
       "      <th>relevent_experience</th>\n",
       "      <th>enrolled_university</th>\n",
       "      <th>education_level</th>\n",
       "      <th>major_discipline</th>\n",
       "      <th>experience</th>\n",
       "      <th>company_size</th>\n",
       "      <th>company_type</th>\n",
       "      <th>last_new_job</th>\n",
       "    </tr>\n",
       "  </thead>\n",
       "  <tbody>\n",
       "    <tr>\n",
       "      <th>0</th>\n",
       "      <td>city_103</td>\n",
       "      <td>Has relevent experience</td>\n",
       "      <td>no_enrollment</td>\n",
       "      <td>Graduate</td>\n",
       "      <td>STEM</td>\n",
       "      <td>&gt;20</td>\n",
       "      <td>NaN</td>\n",
       "      <td>NaN</td>\n",
       "      <td>1</td>\n",
       "    </tr>\n",
       "    <tr>\n",
       "      <th>1</th>\n",
       "      <td>city_40</td>\n",
       "      <td>No relevent experience</td>\n",
       "      <td>no_enrollment</td>\n",
       "      <td>Graduate</td>\n",
       "      <td>STEM</td>\n",
       "      <td>15</td>\n",
       "      <td>50-99</td>\n",
       "      <td>Pvt Ltd</td>\n",
       "      <td>&gt;4</td>\n",
       "    </tr>\n",
       "    <tr>\n",
       "      <th>2</th>\n",
       "      <td>city_21</td>\n",
       "      <td>No relevent experience</td>\n",
       "      <td>Full time course</td>\n",
       "      <td>Graduate</td>\n",
       "      <td>STEM</td>\n",
       "      <td>5</td>\n",
       "      <td>NaN</td>\n",
       "      <td>NaN</td>\n",
       "      <td>never</td>\n",
       "    </tr>\n",
       "    <tr>\n",
       "      <th>3</th>\n",
       "      <td>city_115</td>\n",
       "      <td>No relevent experience</td>\n",
       "      <td>NaN</td>\n",
       "      <td>Graduate</td>\n",
       "      <td>Business Degree</td>\n",
       "      <td>&lt;1</td>\n",
       "      <td>NaN</td>\n",
       "      <td>Pvt Ltd</td>\n",
       "      <td>never</td>\n",
       "    </tr>\n",
       "    <tr>\n",
       "      <th>4</th>\n",
       "      <td>city_162</td>\n",
       "      <td>Has relevent experience</td>\n",
       "      <td>no_enrollment</td>\n",
       "      <td>Masters</td>\n",
       "      <td>STEM</td>\n",
       "      <td>&gt;20</td>\n",
       "      <td>50-99</td>\n",
       "      <td>Funded Startup</td>\n",
       "      <td>4</td>\n",
       "    </tr>\n",
       "  </tbody>\n",
       "</table>\n",
       "</div>"
      ],
      "text/plain": [
       "       city      relevent_experience enrolled_university education_level  \\\n",
       "0  city_103  Has relevent experience       no_enrollment        Graduate   \n",
       "1   city_40   No relevent experience       no_enrollment        Graduate   \n",
       "2   city_21   No relevent experience    Full time course        Graduate   \n",
       "3  city_115   No relevent experience                 NaN        Graduate   \n",
       "4  city_162  Has relevent experience       no_enrollment         Masters   \n",
       "\n",
       "  major_discipline experience company_size    company_type last_new_job  \n",
       "0             STEM        >20          NaN             NaN            1  \n",
       "1             STEM         15        50-99         Pvt Ltd           >4  \n",
       "2             STEM          5          NaN             NaN        never  \n",
       "3  Business Degree         <1          NaN         Pvt Ltd        never  \n",
       "4             STEM        >20        50-99  Funded Startup            4  "
      ]
     },
     "execution_count": 19,
     "metadata": {},
     "output_type": "execute_result"
    }
   ],
   "source": [
    "# Access the columns of type object \n",
    "df.loc[:, df.dtypes == object].head()"
   ]
  },
  {
   "cell_type": "code",
   "execution_count": 20,
   "metadata": {
    "ExecuteTime": {
     "end_time": "2021-07-16T03:23:48.433246Z",
     "start_time": "2021-07-16T03:23:48.418329Z"
    }
   },
   "outputs": [],
   "source": [
    "# Separate the columns into nominal and ordinal type columns\n",
    "nominal = ['city', 'relevent_experience','enrolled_university','major_discipline','company_type']\n",
    "ordinal = ['education_level','experience','company_size','last_new_job']"
   ]
  },
  {
   "cell_type": "markdown",
   "metadata": {},
   "source": [
    "## Ordinal Encode Mapping"
   ]
  },
  {
   "cell_type": "markdown",
   "metadata": {
    "ExecuteTime": {
     "end_time": "2021-06-29T04:34:32.027848Z",
     "start_time": "2021-06-29T04:34:32.008606Z"
    }
   },
   "source": [
    "Set mapping and ordering required for Sklearn's OrdinalEncoder to use in pipeline"
   ]
  },
  {
   "cell_type": "markdown",
   "metadata": {},
   "source": [
    "### Education Level"
   ]
  },
  {
   "cell_type": "code",
   "execution_count": 21,
   "metadata": {
    "ExecuteTime": {
     "end_time": "2021-07-16T03:23:48.449207Z",
     "start_time": "2021-07-16T03:23:48.435247Z"
    }
   },
   "outputs": [
    {
     "data": {
      "text/plain": [
       "array(['Graduate', 'Masters', 'High School', nan, 'Phd', 'Primary School'],\n",
       "      dtype=object)"
      ]
     },
     "execution_count": 21,
     "metadata": {},
     "output_type": "execute_result"
    }
   ],
   "source": [
    "# Peek at unique values of education_level and order them to feed into sklearn's OrdinalEncoder\n",
    "df.education_level.unique()"
   ]
  },
  {
   "cell_type": "code",
   "execution_count": 22,
   "metadata": {
    "ExecuteTime": {
     "end_time": "2021-07-16T03:23:48.464155Z",
     "start_time": "2021-07-16T03:23:48.455179Z"
    }
   },
   "outputs": [],
   "source": [
    "# Set the ordering for education level\n",
    "edu_level_ord = [['missing','Primary School', 'High School', 'Graduate', 'Masters', 'Phd']]"
   ]
  },
  {
   "cell_type": "markdown",
   "metadata": {},
   "source": [
    "### Experience "
   ]
  },
  {
   "cell_type": "code",
   "execution_count": 23,
   "metadata": {
    "ExecuteTime": {
     "end_time": "2021-07-16T03:23:48.480098Z",
     "start_time": "2021-07-16T03:23:48.467141Z"
    }
   },
   "outputs": [
    {
     "data": {
      "text/plain": [
       "array(['>20', '15', '5', '<1', '11', '13', '7', '17', '2', '16', '1', '4',\n",
       "       '10', '14', '18', '19', '12', '3', '6', '9', '8', '20', nan],\n",
       "      dtype=object)"
      ]
     },
     "execution_count": 23,
     "metadata": {},
     "output_type": "execute_result"
    }
   ],
   "source": [
    "# Peek at unique values of experience and order them to feed into sklearn's OrdinalEncoder\n",
    "df.experience.unique()"
   ]
  },
  {
   "cell_type": "code",
   "execution_count": 24,
   "metadata": {
    "ExecuteTime": {
     "end_time": "2021-07-16T03:23:48.495365Z",
     "start_time": "2021-07-16T03:23:48.481095Z"
    }
   },
   "outputs": [],
   "source": [
    "# Assuming we replace missing values with the string 'missing'\n",
    "experience_ord = [['missing', \n",
    "                   '<1', \n",
    "                   '1', \n",
    "                   '2', \n",
    "                   '3', \n",
    "                   '4', \n",
    "                   '5', \n",
    "                   '6', \n",
    "                   '7', \n",
    "                   '8', \n",
    "                   '9', \n",
    "                   '10', \n",
    "                   '11', \n",
    "                   '12', \n",
    "                   '13', \n",
    "                   '14', \n",
    "                   '15', \n",
    "                   '16', \n",
    "                   '17', \n",
    "                   '18', \n",
    "                   '19', \n",
    "                   '20', \n",
    "                   '>20']]"
   ]
  },
  {
   "cell_type": "markdown",
   "metadata": {},
   "source": [
    "### Company Size"
   ]
  },
  {
   "cell_type": "code",
   "execution_count": 25,
   "metadata": {
    "ExecuteTime": {
     "end_time": "2021-07-16T03:23:48.511351Z",
     "start_time": "2021-07-16T03:23:48.496397Z"
    }
   },
   "outputs": [
    {
     "data": {
      "text/plain": [
       "array([nan, '50-99', '<10', '10000+', '5000-9999', '1000-4999', '10/49',\n",
       "       '100-500', '500-999'], dtype=object)"
      ]
     },
     "execution_count": 25,
     "metadata": {},
     "output_type": "execute_result"
    }
   ],
   "source": [
    "df.company_size.unique()"
   ]
  },
  {
   "cell_type": "code",
   "execution_count": 26,
   "metadata": {
    "ExecuteTime": {
     "end_time": "2021-07-16T03:23:48.526525Z",
     "start_time": "2021-07-16T03:23:48.513342Z"
    }
   },
   "outputs": [],
   "source": [
    "# Assuming we replace missing values with the string 'missing'\n",
    "company_size_ord = [['missing', \n",
    "                   '<10', \n",
    "                   '10/49', \n",
    "                   '50-99', \n",
    "                   '100-500', \n",
    "                   '500-999', \n",
    "                   '1000-4999', \n",
    "                   '5000-9999', \n",
    "                   '10000+']]"
   ]
  },
  {
   "cell_type": "markdown",
   "metadata": {},
   "source": [
    "### Last New Job"
   ]
  },
  {
   "cell_type": "code",
   "execution_count": 27,
   "metadata": {
    "ExecuteTime": {
     "end_time": "2021-07-16T03:23:48.542483Z",
     "start_time": "2021-07-16T03:23:48.528510Z"
    }
   },
   "outputs": [
    {
     "data": {
      "text/plain": [
       "array(['1', '>4', 'never', '4', '3', '2', nan], dtype=object)"
      ]
     },
     "execution_count": 27,
     "metadata": {},
     "output_type": "execute_result"
    }
   ],
   "source": [
    "df.last_new_job.unique()"
   ]
  },
  {
   "cell_type": "code",
   "execution_count": 28,
   "metadata": {
    "ExecuteTime": {
     "end_time": "2021-07-16T03:23:48.557288Z",
     "start_time": "2021-07-16T03:23:48.544479Z"
    }
   },
   "outputs": [],
   "source": [
    "# Assuming we replace missing values with the string 'missing'\n",
    "last_new_job_ord = [['missing', \n",
    "                   'never', \n",
    "                   '1', \n",
    "                   '2', \n",
    "                   '3', \n",
    "                   '4', \n",
    "                   '>4']]"
   ]
  },
  {
   "cell_type": "markdown",
   "metadata": {},
   "source": [
    "# Set up simple model using Logistic Regression"
   ]
  },
  {
   "cell_type": "markdown",
   "metadata": {},
   "source": [
    "We will test our simple model against three dataframes using three different methods of imputation: \n",
    "\n",
    "- Dropping missing values\n",
    "- 'missing' value (create a new category called 'missing') imputation dataframe\n",
    "- 'most frequent' value imputation"
   ]
  },
  {
   "cell_type": "markdown",
   "metadata": {},
   "source": [
    "After setting up our three sets of data to run our simple LogisticRegression model we will perform the following:\n",
    "1. Split data\n",
    "2. Apply transformations\n",
    "3. Train logistic regression model"
   ]
  },
  {
   "cell_type": "markdown",
   "metadata": {},
   "source": [
    "Now we've created two dataframes with two different types of imputation methods. We will test both and observe which performs better on a baseline model."
   ]
  },
  {
   "cell_type": "markdown",
   "metadata": {},
   "source": [
    "## Missing as a new category - Train Test Split"
   ]
  },
  {
   "cell_type": "code",
   "execution_count": 29,
   "metadata": {
    "ExecuteTime": {
     "end_time": "2021-07-16T03:23:48.589258Z",
     "start_time": "2021-07-16T03:23:48.559281Z"
    }
   },
   "outputs": [],
   "source": [
    "df_baseline = df.copy()\n",
    "\n",
    "# Create a df where missing values are filled with 'missing', and as a result craeting a new category\n",
    "df_missing_baseline = df_baseline.fillna('missing')\n",
    "# Separate target and predictors\n",
    "\n",
    "# 'missing' new value imputation\n",
    "y_missing = df_missing_baseline.target\n",
    "X_missing = df_missing_baseline.drop('target',axis=1)"
   ]
  },
  {
   "cell_type": "code",
   "execution_count": 30,
   "metadata": {
    "ExecuteTime": {
     "end_time": "2021-07-16T03:23:48.605165Z",
     "start_time": "2021-07-16T03:23:48.592253Z"
    }
   },
   "outputs": [],
   "source": [
    "# Separate into train and test\n",
    "\n",
    "# 'missing' new value imputation\n",
    "X_train_mis, X_test_mis, y_train_mis, y_test_mis = train_test_split(X_missing, y_missing, test_size=0.25)"
   ]
  },
  {
   "cell_type": "markdown",
   "metadata": {},
   "source": [
    "## Most frequent imputation - Train Test Split"
   ]
  },
  {
   "cell_type": "code",
   "execution_count": 31,
   "metadata": {
    "ExecuteTime": {
     "end_time": "2021-07-16T03:23:48.620973Z",
     "start_time": "2021-07-16T03:23:48.607155Z"
    }
   },
   "outputs": [],
   "source": [
    "# Create a df where most_frequent is used as the strategy to address missing values\n",
    "\n",
    "# Set up frequent_imputer\n",
    "frequent_imputer = SimpleImputer(strategy='most_frequent')\n",
    "\n",
    "# Create a copy of our original df called df_frequent_baseline to help us organize how we're separating our baselines\n",
    "df_frequent_baseline = df.copy()\n",
    "\n",
    "# Most frequent imputation\n",
    "y_freq = df_frequent_baseline.target\n",
    "X_freq = df_frequent_baseline.drop('target',axis=1)"
   ]
  },
  {
   "cell_type": "code",
   "execution_count": 32,
   "metadata": {
    "ExecuteTime": {
     "end_time": "2021-07-16T03:23:48.635980Z",
     "start_time": "2021-07-16T03:23:48.621977Z"
    }
   },
   "outputs": [],
   "source": [
    "# Separate into train and test\n",
    "\n",
    "# Most frequent imputation\n",
    "X_train_freq, X_test_freq, y_train_freq, y_test_freq = train_test_split(X_freq, y_freq, test_size=0.25)"
   ]
  },
  {
   "cell_type": "markdown",
   "metadata": {},
   "source": [
    "## Drop missing values - Train Test Split"
   ]
  },
  {
   "cell_type": "code",
   "execution_count": 33,
   "metadata": {
    "ExecuteTime": {
     "end_time": "2021-07-16T03:23:48.667198Z",
     "start_time": "2021-07-16T03:23:48.636972Z"
    }
   },
   "outputs": [],
   "source": [
    "# Retain original dataframe and create a new one to drop null values\n",
    "df_drop = df.copy()\n",
    "df_drop.dropna(inplace=True)\n",
    "\n",
    "y_drop = df_drop.target\n",
    "X_drop = df_drop.drop('target',axis=1)\n",
    "\n",
    "# Create train test split from our dropped null values dataframe\n",
    "X_train_drop, X_test_drop, y_train_drop, y_test_drop = train_test_split(X_drop, y_drop, test_size=0.25)"
   ]
  },
  {
   "cell_type": "markdown",
   "metadata": {},
   "source": [
    "## Set up ColumnTransformer and pipeline"
   ]
  },
  {
   "cell_type": "code",
   "execution_count": 34,
   "metadata": {
    "ExecuteTime": {
     "end_time": "2021-07-16T03:23:48.682523Z",
     "start_time": "2021-07-16T03:23:48.668210Z"
    }
   },
   "outputs": [],
   "source": [
    "# Set up helper function for retrieving the index of a column given column name\n",
    "def get_column_index(df, col_name):\n",
    "    return df.columns.get_loc(col_name)"
   ]
  },
  {
   "cell_type": "markdown",
   "metadata": {},
   "source": [
    "For mixed types of numeric, nominal, and ordinal features, use sklearn's ColumnTransformer.\n",
    "\n",
    "For the two numeric columns we will use:\n",
    "- Log Transform for Training Hours\n",
    "- Power Transform for City Development Index"
   ]
  },
  {
   "cell_type": "code",
   "execution_count": 35,
   "metadata": {
    "ExecuteTime": {
     "end_time": "2021-07-16T03:23:48.698476Z",
     "start_time": "2021-07-16T03:23:48.684521Z"
    },
    "code_folding": []
   },
   "outputs": [],
   "source": [
    "#For mixed types of numeric, nominal, and ordinal features, use sklearn's ColumnTransformer\n",
    "log_transform = FunctionTransformer(np.log1p, validate=True)\n",
    "\n",
    "t = [\n",
    "    (\"log_transform\", FunctionTransformer(np.log1p, validate=True), [get_column_index(df_missing_baseline, 'training_hours')]),\n",
    "    (\"pwr_transform\", PowerTransformer(method='yeo-johnson', standardize=True), [get_column_index(df_missing_baseline, 'city_development_index')]),\n",
    "    (\"nominal\", OneHotEncoder(handle_unknown='ignore'), [get_column_index(df_missing_baseline, x) for x in nominal]),\n",
    "    (\"edu_ord\", OrdinalEncoder(categories=edu_level_ord),[get_column_index(df_missing_baseline, 'education_level') ]),\n",
    "    (\"exp_ord\", OrdinalEncoder(categories=experience_ord), [get_column_index(df_missing_baseline, 'experience') ]),\n",
    "    (\"comp_size_ord\", OrdinalEncoder(categories=company_size_ord), [get_column_index(df_missing_baseline, 'company_size') ]),\n",
    "    (\"new_job_ord\", OrdinalEncoder(categories=last_new_job_ord), [get_column_index(df_missing_baseline, 'last_new_job') ]),\n",
    "    ]"
   ]
  },
  {
   "cell_type": "markdown",
   "metadata": {},
   "source": [
    "## Run Simple Model"
   ]
  },
  {
   "cell_type": "markdown",
   "metadata": {
    "ExecuteTime": {
     "end_time": "2021-07-02T02:33:48.930506Z",
     "start_time": "2021-07-02T02:33:48.914558Z"
    }
   },
   "source": [
    "Run simple model against the three dataframes: \n",
    "- Dropping missing values\n",
    "- 'missing' value (create a new category called 'missing') imputation dataframe\n",
    "- 'most frequent' value imputation"
   ]
  },
  {
   "cell_type": "code",
   "execution_count": 36,
   "metadata": {
    "ExecuteTime": {
     "end_time": "2021-07-16T03:23:48.873104Z",
     "start_time": "2021-07-16T03:23:48.700469Z"
    }
   },
   "outputs": [],
   "source": [
    "# define model\n",
    "lr_model = LogisticRegression(solver='liblinear')\n",
    "# define transform\n",
    "ct = ColumnTransformer(transformers=t)\n",
    "# define pipeline\n",
    "pipeline = Pipeline(steps=[('t', ct), ('m',lr_model)])\n",
    "# fit the pipeline on the transformed data\n",
    "pipeline.fit(X_train_drop, y_train_drop.astype('int'))\n",
    "# make predictions\n",
    "yhat_drop = pipeline.predict(X_test_drop)"
   ]
  },
  {
   "cell_type": "code",
   "execution_count": 37,
   "metadata": {
    "ExecuteTime": {
     "end_time": "2021-07-16T03:23:48.905001Z",
     "start_time": "2021-07-16T03:23:48.876098Z"
    }
   },
   "outputs": [
    {
     "name": "stdout",
     "output_type": "stream",
     "text": [
      "              precision    recall  f1-score   support\n",
      "\n",
      "           0       0.91      0.92      0.92      2319\n",
      "           1       0.60      0.55      0.58       476\n",
      "\n",
      "    accuracy                           0.86      2795\n",
      "   macro avg       0.75      0.74      0.75      2795\n",
      "weighted avg       0.86      0.86      0.86      2795\n",
      "\n"
     ]
    }
   ],
   "source": [
    "# Check classification metrics\n",
    "print(classification_report(y_test_drop, yhat_drop))"
   ]
  },
  {
   "cell_type": "code",
   "execution_count": 38,
   "metadata": {
    "ExecuteTime": {
     "end_time": "2021-07-16T03:23:49.203005Z",
     "start_time": "2021-07-16T03:23:48.906997Z"
    }
   },
   "outputs": [
    {
     "data": {
      "image/png": "[encoded data removed]",
      "text/plain": [
       "<Figure size 432x288 with 2 Axes>"
      ]
     },
     "metadata": {
      "needs_background": "light"
     },
     "output_type": "display_data"
    }
   ],
   "source": [
    "# Plot confusion matrix\n",
    "plot_confusion_matrix(pipeline, X_test_drop, y_test_drop,\n",
    "                     cmap=plt.cm.Blues);"
   ]
  },
  {
   "cell_type": "code",
   "execution_count": 39,
   "metadata": {
    "ExecuteTime": {
     "end_time": "2021-07-16T03:23:49.897686Z",
     "start_time": "2021-07-16T03:23:49.204999Z"
    },
    "scrolled": false
   },
   "outputs": [
    {
     "name": "stdout",
     "output_type": "stream",
     "text": [
      "No Skill: ROC AUC=0.500\n",
      "Logistic: ROC AUC=0.739\n"
     ]
    },
    {
     "data": {
      "image/png": "[encoded data removed]",
      "text/plain": [
       "<Figure size 720x576 with 1 Axes>"
      ]
     },
     "metadata": {
      "needs_background": "light"
     },
     "output_type": "display_data"
    }
   ],
   "source": [
    "# Plot and examine ROC AUC Curve\n",
    "fig, ax = plt.subplots(figsize=(10,8))\n",
    "\n",
    "# generate a no skill prediction (majority class)\n",
    "ns_probs = [0 for _ in range(len(y_test_drop))]\n",
    "\n",
    "# calculate scores\n",
    "ns_auc = roc_auc_score(y_test_drop, ns_probs)\n",
    "lr_auc = roc_auc_score(y_test_drop, yhat_drop)\n",
    "# summarize scores\n",
    "print('No Skill: ROC AUC=%.3f' % (ns_auc))\n",
    "print('Logistic: ROC AUC=%.3f' % (lr_auc))\n",
    "# calculate roc curves\n",
    "ns_fpr, ns_tpr, _ = roc_curve(y_test_drop, ns_probs)\n",
    "lr_fpr, lr_tpr, _ = roc_curve(y_test_drop, yhat_drop)\n",
    "# plot the roc curve for the model\n",
    "plt.plot(ns_fpr, ns_tpr, linestyle='--', label='No Skill')\n",
    "plt.plot(lr_fpr, lr_tpr, marker='.', label='Logistic')\n",
    "# axis labels\n",
    "plt.xlabel('False Positive Rate')\n",
    "plt.ylabel('True Positive Rate')\n",
    "\n",
    "plt.title(\"Receiver operating characteristic (ROC) Curve - Dropping Missing Values\")\n",
    "\n",
    "# show the legend\n",
    "plt.legend()\n",
    "\n",
    "# Save fig\n",
    "plt.savefig('LR_ROCCurve_drop.jpg',dpi=300, bbox_inches = 'tight');"
   ]
  },
  {
   "cell_type": "markdown",
   "metadata": {},
   "source": [
    "Our simple logistic regression model against the dataframe with dropped missing values appears to perform decently with an AUC score of 0.7. However, let's continue with other methods of missing value imputation before moving forward."
   ]
  },
  {
   "cell_type": "markdown",
   "metadata": {},
   "source": [
    "### Missing Value Simple Model Evaluation"
   ]
  },
  {
   "cell_type": "code",
   "execution_count": 40,
   "metadata": {
    "ExecuteTime": {
     "end_time": "2021-07-16T03:23:50.165785Z",
     "start_time": "2021-07-16T03:23:49.898679Z"
    }
   },
   "outputs": [],
   "source": [
    "# define model\n",
    "lr_model = LogisticRegression(solver='liblinear')\n",
    "# define transform\n",
    "ct = ColumnTransformer(transformers=t)\n",
    "# define pipeline\n",
    "pipeline = Pipeline(steps=[('t', ct), ('m',lr_model)])\n",
    "# fit the pipeline on the transformed data\n",
    "pipeline.fit(X_train_mis, y_train_mis.astype('int'))\n",
    "# make predictions\n",
    "yhat_mis = pipeline.predict(X_test_mis)"
   ]
  },
  {
   "cell_type": "code",
   "execution_count": 41,
   "metadata": {
    "ExecuteTime": {
     "end_time": "2021-07-16T03:23:50.197677Z",
     "start_time": "2021-07-16T03:23:50.167777Z"
    }
   },
   "outputs": [
    {
     "name": "stdout",
     "output_type": "stream",
     "text": [
      "              precision    recall  f1-score   support\n",
      "\n",
      "           0       0.82      0.93      0.87      3621\n",
      "           1       0.61      0.35      0.44      1169\n",
      "\n",
      "    accuracy                           0.79      4790\n",
      "   macro avg       0.71      0.64      0.66      4790\n",
      "weighted avg       0.76      0.79      0.76      4790\n",
      "\n"
     ]
    }
   ],
   "source": [
    "# Check classification metrics\n",
    "print(classification_report(y_test_mis, yhat_mis))"
   ]
  },
  {
   "cell_type": "code",
   "execution_count": 42,
   "metadata": {
    "ExecuteTime": {
     "end_time": "2021-07-16T03:23:50.417940Z",
     "start_time": "2021-07-16T03:23:50.199672Z"
    },
    "code_folding": []
   },
   "outputs": [
    {
     "data": {
      "image/png": "[encoded data removed]",
      "text/plain": [
       "<Figure size 432x288 with 2 Axes>"
      ]
     },
     "metadata": {
      "needs_background": "light"
     },
     "output_type": "display_data"
    }
   ],
   "source": [
    "plot_confusion_matrix(pipeline, X_test_mis, y_test_mis,\n",
    "                     cmap=plt.cm.Blues);"
   ]
  },
  {
   "cell_type": "code",
   "execution_count": 43,
   "metadata": {
    "ExecuteTime": {
     "end_time": "2021-07-16T03:23:51.158484Z",
     "start_time": "2021-07-16T03:23:50.419933Z"
    }
   },
   "outputs": [
    {
     "name": "stdout",
     "output_type": "stream",
     "text": [
      "No Skill: ROC AUC=0.500\n",
      "Logistic: ROC AUC=0.638\n"
     ]
    },
    {
     "data": {
      "image/png": "[encoded data removed]",
      "text/plain": [
       "<Figure size 720x576 with 1 Axes>"
      ]
     },
     "metadata": {
      "needs_background": "light"
     },
     "output_type": "display_data"
    }
   ],
   "source": [
    "fig, ax = plt.subplots(figsize=(10,8))\n",
    "\n",
    "# generate a no skill prediction (majority class)\n",
    "ns_probs = [0 for _ in range(len(y_test_mis))]\n",
    "\n",
    "# calculate scores\n",
    "ns_auc = roc_auc_score(y_test_mis, ns_probs)\n",
    "lr_auc = roc_auc_score(y_test_mis, yhat_mis)\n",
    "# summarize scores\n",
    "print('No Skill: ROC AUC=%.3f' % (ns_auc))\n",
    "print('Logistic: ROC AUC=%.3f' % (lr_auc))\n",
    "# calculate roc curves\n",
    "ns_fpr, ns_tpr, _ = roc_curve(y_test_mis, ns_probs)\n",
    "lr_fpr, lr_tpr, _ = roc_curve(y_test_mis, yhat_mis)\n",
    "# plot the roc curve for the model\n",
    "plt.plot(ns_fpr, ns_tpr, linestyle='--', label='No Skill')\n",
    "plt.plot(lr_fpr, lr_tpr, marker='.', label='Logistic')\n",
    "# axis labels\n",
    "plt.xlabel('False Positive Rate')\n",
    "plt.ylabel('True Positive Rate')\n",
    "\n",
    "plt.title(\"Receiver operating characteristic (ROC) Curve - 'Missing' as a new Category Imputation\")\n",
    "\n",
    "# show the legend\n",
    "plt.legend()\n",
    "\n",
    "# Save fig\n",
    "plt.savefig('LR_ROCCurve_Missing.jpg',dpi=300, bbox_inches = 'tight');"
   ]
  },
  {
   "cell_type": "markdown",
   "metadata": {
    "ExecuteTime": {
     "end_time": "2021-07-13T03:05:27.098061Z",
     "start_time": "2021-07-13T03:05:27.079123Z"
    }
   },
   "source": [
    "Since 0 is our majority class making as much as 75% of our target class, it  makes sense that its f1-score is significantly higher than the 1 class. In contrast, the 1 class has a poor f1 score. Specifically with low recall score of 0.34, this is our model is having a hard time classifying participants that will work for the data science company, actually will work for the company conducting data science training."
   ]
  },
  {
   "cell_type": "markdown",
   "metadata": {
    "ExecuteTime": {
     "end_time": "2021-07-02T02:33:11.117170Z",
     "start_time": "2021-07-02T02:33:11.103173Z"
    }
   },
   "source": [
    "### Most Frequent Imputation Simple Model Evaluation"
   ]
  },
  {
   "cell_type": "code",
   "execution_count": 44,
   "metadata": {
    "ExecuteTime": {
     "end_time": "2021-07-16T03:23:51.174410Z",
     "start_time": "2021-07-16T03:23:51.160458Z"
    }
   },
   "outputs": [],
   "source": [
    "t = [\n",
    "    (\"log_transform\", FunctionTransformer(np.log1p, validate=True), [get_column_index(df_frequent_baseline, 'training_hours')]),\n",
    "    (\"pwr_transform\", PowerTransformer(method='yeo-johnson', standardize=True), [get_column_index(df_frequent_baseline, 'city_development_index')]),\n",
    "    (\"nominal\", OneHotEncoder(handle_unknown='ignore'), [get_column_index(df_frequent_baseline, x) for x in nominal]),\n",
    "    (\"edu_ord\", OrdinalEncoder(categories=edu_level_ord),[get_column_index(df_frequent_baseline, 'education_level') ]),\n",
    "    (\"exp_ord\", OrdinalEncoder(categories=experience_ord), [get_column_index(df_frequent_baseline, 'experience') ]),\n",
    "    (\"comp_size_ord\", OrdinalEncoder(categories=company_size_ord), [get_column_index(df_frequent_baseline, 'company_size') ]),\n",
    "    (\"new_job_ord\", OrdinalEncoder(categories=last_new_job_ord), [get_column_index(df_frequent_baseline, 'last_new_job') ]),\n",
    "    ]"
   ]
  },
  {
   "cell_type": "markdown",
   "metadata": {},
   "source": [
    "For our most frequent imputer imputation simple model evaluation, we want to set up a separate pipeline that includes the SimpleImputer object in a separate step. We need to include this as a separate step in the pipeline in order to prevent data leakage.\n",
    "\n",
    "In the cell below, we will create a separate pipeline object called **pipeline_freq**"
   ]
  },
  {
   "cell_type": "code",
   "execution_count": 45,
   "metadata": {
    "ExecuteTime": {
     "end_time": "2021-07-16T03:23:51.757498Z",
     "start_time": "2021-07-16T03:23:51.176403Z"
    },
    "scrolled": false
   },
   "outputs": [],
   "source": [
    "# define model\n",
    "lr_model = LogisticRegression(solver='liblinear')\n",
    "# define transform\n",
    "ct = ColumnTransformer(transformers=t)\n",
    "# define pipeline\n",
    "pipeline_freq = Pipeline(steps=[('imp',frequent_imputer),('t', ct), ('m',lr_model)])\n",
    "# fit the pipeline on the transformed data\n",
    "pipeline_freq.fit(X_train_freq, y_train_freq.astype('int'))\n",
    "# make predictions\n",
    "yhat_freq = pipeline_freq.predict(X_test_freq)"
   ]
  },
  {
   "cell_type": "code",
   "execution_count": 46,
   "metadata": {
    "ExecuteTime": {
     "end_time": "2021-07-16T03:23:51.773440Z",
     "start_time": "2021-07-16T03:23:51.758455Z"
    }
   },
   "outputs": [
    {
     "name": "stdout",
     "output_type": "stream",
     "text": [
      "              precision    recall  f1-score   support\n",
      "\n",
      "           0       0.81      0.92      0.86      3607\n",
      "           1       0.58      0.34      0.43      1183\n",
      "\n",
      "    accuracy                           0.78      4790\n",
      "   macro avg       0.70      0.63      0.65      4790\n",
      "weighted avg       0.75      0.78      0.76      4790\n",
      "\n"
     ]
    }
   ],
   "source": [
    "# Check classification metrics\n",
    "y_test_freq = y_test_freq.astype('int')\n",
    "\n",
    "print(classification_report(y_test_freq, yhat_freq))"
   ]
  },
  {
   "cell_type": "code",
   "execution_count": 47,
   "metadata": {
    "ExecuteTime": {
     "end_time": "2021-07-16T03:23:52.328583Z",
     "start_time": "2021-07-16T03:23:51.775398Z"
    }
   },
   "outputs": [
    {
     "name": "stdout",
     "output_type": "stream",
     "text": [
      "No Skill: ROC AUC=0.500\n",
      "Logistic: ROC AUC=0.631\n"
     ]
    },
    {
     "data": {
      "image/png": "[encoded data removed]",
      "text/plain": [
       "<Figure size 720x576 with 1 Axes>"
      ]
     },
     "metadata": {
      "needs_background": "light"
     },
     "output_type": "display_data"
    }
   ],
   "source": [
    "fig, ax = plt.subplots(figsize=(10,8))\n",
    "\n",
    "# generate a no skill prediction (majority class)\n",
    "ns_probs = [0 for _ in range(len(y_test_freq))]\n",
    "\n",
    "# calculate scores\n",
    "ns_auc = roc_auc_score(y_test_freq, ns_probs)\n",
    "lr_auc = roc_auc_score(y_test_freq, yhat_freq)\n",
    "# summarize scores\n",
    "print('No Skill: ROC AUC=%.3f' % (ns_auc))\n",
    "print('Logistic: ROC AUC=%.3f' % (lr_auc))\n",
    "# calculate roc curves\n",
    "ns_fpr, ns_tpr, _ = roc_curve(y_test_freq, ns_probs)\n",
    "lr_fpr, lr_tpr, _ = roc_curve(y_test_freq, yhat_freq)\n",
    "# plot the roc curve for the model\n",
    "plt.plot(ns_fpr, ns_tpr, linestyle='--', label='No Skill')\n",
    "plt.plot(lr_fpr, lr_tpr, marker='.', label='Logistic')\n",
    "# axis labels\n",
    "plt.xlabel('False Positive Rate')\n",
    "plt.ylabel('True Positive Rate')\n",
    "\n",
    "plt.title(\"Receiver operating characteristic (ROC) Curve - Most Frequent Imputation\")\n",
    "\n",
    "# show the legend\n",
    "plt.legend()\n",
    "\n",
    "# Save fig\n",
    "plt.savefig('LR_ROCCurve_Freq.jpg',dpi=300, bbox_inches = 'tight');"
   ]
  },
  {
   "cell_type": "markdown",
   "metadata": {},
   "source": [
    "Both methods of imputation performed fairly similar both with the same accuracy of 77%. However, it appears the method simply dropping missing values appeared to perform best with an accuracy of 85% and an AUC score of 0.7.\n",
    "\n",
    "Based on these initial results, we will move forward with simply dropping missing values.\n",
    "\n",
    "Let's outline our next steps:\n",
    "1. DecisionTreeClassifier\n",
    "2. Extract feature importance from DecisionTreeClassifier\n",
    "3. Experiment with RandomForest and XGBoost\n",
    "4. Hyperparameter tuning"
   ]
  },
  {
   "cell_type": "markdown",
   "metadata": {},
   "source": [
    "# Loop over simple models and move forward with the best one"
   ]
  },
  {
   "cell_type": "code",
   "execution_count": 48,
   "metadata": {
    "ExecuteTime": {
     "end_time": "2021-07-16T03:23:52.344546Z",
     "start_time": "2021-07-16T03:23:52.329548Z"
    }
   },
   "outputs": [],
   "source": [
    "# Encode our target to binary\n",
    "y_drop = df_drop.target\n",
    "X_drop = df_drop.drop('target',axis=1)\n",
    "\n",
    "label_encoder = LabelEncoder()\n",
    "y_drop = label_encoder.fit_transform(y_drop)"
   ]
  },
  {
   "cell_type": "code",
   "execution_count": 49,
   "metadata": {
    "ExecuteTime": {
     "end_time": "2021-07-16T03:24:48.837457Z",
     "start_time": "2021-07-16T03:23:52.345492Z"
    }
   },
   "outputs": [
    {
     "name": "stderr",
     "output_type": "stream",
     "text": [
      "\r",
      "0it [00:00, ?it/s]"
     ]
    },
    {
     "name": "stdout",
     "output_type": "stream",
     "text": [
      "[20:24:03] WARNING: C:/Users/Administrator/workspace/xgboost-win64_release_1.4.0/src/learner.cc:1095: Starting in XGBoost 1.3.0, the default evaluation metric used with the objective 'binary:logistic' was changed from 'error' to 'logloss'. Explicitly set eval_metric if you'd like to restore the old behavior.\n"
     ]
    },
    {
     "name": "stderr",
     "output_type": "stream",
     "text": [
      "\r",
      "1it [00:11, 11.29s/it]"
     ]
    },
    {
     "name": "stdout",
     "output_type": "stream",
     "text": [
      "[20:24:14] WARNING: C:/Users/Administrator/workspace/xgboost-win64_release_1.4.0/src/learner.cc:1095: Starting in XGBoost 1.3.0, the default evaluation metric used with the objective 'binary:logistic' was changed from 'error' to 'logloss'. Explicitly set eval_metric if you'd like to restore the old behavior.\n"
     ]
    },
    {
     "name": "stderr",
     "output_type": "stream",
     "text": [
      "\r",
      "2it [00:22, 11.34s/it]"
     ]
    },
    {
     "name": "stdout",
     "output_type": "stream",
     "text": [
      "[20:24:26] WARNING: C:/Users/Administrator/workspace/xgboost-win64_release_1.4.0/src/learner.cc:1095: Starting in XGBoost 1.3.0, the default evaluation metric used with the objective 'binary:logistic' was changed from 'error' to 'logloss'. Explicitly set eval_metric if you'd like to restore the old behavior.\n"
     ]
    },
    {
     "name": "stderr",
     "output_type": "stream",
     "text": [
      "\r",
      "3it [00:34, 11.43s/it]"
     ]
    },
    {
     "name": "stdout",
     "output_type": "stream",
     "text": [
      "[20:24:37] WARNING: C:/Users/Administrator/workspace/xgboost-win64_release_1.4.0/src/learner.cc:1095: Starting in XGBoost 1.3.0, the default evaluation metric used with the objective 'binary:logistic' was changed from 'error' to 'logloss'. Explicitly set eval_metric if you'd like to restore the old behavior.\n"
     ]
    },
    {
     "name": "stderr",
     "output_type": "stream",
     "text": [
      "\r",
      "4it [00:45, 11.39s/it]"
     ]
    },
    {
     "name": "stdout",
     "output_type": "stream",
     "text": [
      "[20:24:48] WARNING: C:/Users/Administrator/workspace/xgboost-win64_release_1.4.0/src/learner.cc:1095: Starting in XGBoost 1.3.0, the default evaluation metric used with the objective 'binary:logistic' was changed from 'error' to 'logloss'. Explicitly set eval_metric if you'd like to restore the old behavior.\n"
     ]
    },
    {
     "name": "stderr",
     "output_type": "stream",
     "text": [
      "5it [00:56, 11.29s/it]\n"
     ]
    }
   ],
   "source": [
    "# Instantiate models to loop over\n",
    "dt = DecisionTreeClassifier()\n",
    "xgb_clf = xgb.XGBClassifier()\n",
    "lr = LogisticRegression(solver='liblinear')\n",
    "rf = RandomForestClassifier()\n",
    "svc = SVC()\n",
    "\n",
    "# Create model list to iterate over\n",
    "# models = [lr, dt, rf, xgb]\n",
    "\n",
    "models = {'Logistic Regression': lr,\n",
    "          'Support Vector Machine': svc,\n",
    "          'Decision Tree Classifier': dt,\n",
    "          'Random Forest': rf,\n",
    "          'XGBoost' :xgb_clf\n",
    "         }\n",
    "\n",
    "model_results = {'Model Name':[],\n",
    "                 'Fold':[],\n",
    "                 'Simple Model Accuracy Train':[],\n",
    "                 'Simple Model Accuracy Test':[]\n",
    "                }\n",
    "\n",
    "# Instantiate Stratified KFold\n",
    "skf = StratifiedKFold(n_splits=5)\n",
    "\n",
    "k_fold = 0\n",
    "\n",
    "for train_index, test_index in tqdm(skf.split(X_drop,y_drop)):\n",
    "    X_train, X_test = X_drop.iloc[train_index], X_drop.iloc[test_index]\n",
    "    y_train, y_test = y_drop[train_index], y_drop[test_index]\n",
    "    k_fold += 1\n",
    "    for model_label, model in models.items():\n",
    "        ct = ColumnTransformer(transformers=t)\n",
    "        # define pipeline\n",
    "        pipeline = Pipeline(steps=[('t', ct), ('m',model)])\n",
    "        # fit the pipeline on the transformed data\n",
    "        pipeline.fit(X_train, y_train.astype('int'))\n",
    "        # make predictions\n",
    "        yhat_drop = pipeline.predict(X_test)\n",
    "        yhat_train_drop = pipeline.predict(X_train)\n",
    "        # Calculate accuracy score\n",
    "        score_train = accuracy_score(y_train, yhat_train_drop)\n",
    "        score_train = round(score_train, 2)*100\n",
    "        score_test = accuracy_score(y_test, yhat_drop)\n",
    "        score_test = round(score_test, 2)*100\n",
    "        # Append results\n",
    "        model_results['Model Name'].append(model_label)\n",
    "        model_results['Fold'].append(k_fold)\n",
    "        model_results['Simple Model Accuracy Train'].append(score_train)\n",
    "        model_results['Simple Model Accuracy Test'].append(score_test)"
   ]
  },
  {
   "cell_type": "code",
   "execution_count": 50,
   "metadata": {
    "ExecuteTime": {
     "end_time": "2021-07-16T03:24:48.869351Z",
     "start_time": "2021-07-16T03:24:48.840446Z"
    }
   },
   "outputs": [
    {
     "data": {
      "text/html": [
       "<div>\n",
       "<style scoped>\n",
       "    .dataframe tbody tr th:only-of-type {\n",
       "        vertical-align: middle;\n",
       "    }\n",
       "\n",
       "    .dataframe tbody tr th {\n",
       "        vertical-align: top;\n",
       "    }\n",
       "\n",
       "    .dataframe thead th {\n",
       "        text-align: right;\n",
       "    }\n",
       "</style>\n",
       "<table border=\"1\" class=\"dataframe\">\n",
       "  <thead>\n",
       "    <tr style=\"text-align: right;\">\n",
       "      <th></th>\n",
       "      <th>Model Name</th>\n",
       "      <th>Simple Model Accuracy Train</th>\n",
       "      <th>Simple Model Accuracy Test</th>\n",
       "    </tr>\n",
       "  </thead>\n",
       "  <tbody>\n",
       "    <tr>\n",
       "      <th>0</th>\n",
       "      <td>Decision Tree Classifier</td>\n",
       "      <td>100.0</td>\n",
       "      <td>77.4</td>\n",
       "    </tr>\n",
       "    <tr>\n",
       "      <th>1</th>\n",
       "      <td>Logistic Regression</td>\n",
       "      <td>85.0</td>\n",
       "      <td>85.0</td>\n",
       "    </tr>\n",
       "    <tr>\n",
       "      <th>2</th>\n",
       "      <td>Random Forest</td>\n",
       "      <td>100.0</td>\n",
       "      <td>84.0</td>\n",
       "    </tr>\n",
       "    <tr>\n",
       "      <th>3</th>\n",
       "      <td>Support Vector Machine</td>\n",
       "      <td>84.6</td>\n",
       "      <td>84.6</td>\n",
       "    </tr>\n",
       "    <tr>\n",
       "      <th>4</th>\n",
       "      <td>XGBoost</td>\n",
       "      <td>90.4</td>\n",
       "      <td>84.2</td>\n",
       "    </tr>\n",
       "  </tbody>\n",
       "</table>\n",
       "</div>"
      ],
      "text/plain": [
       "                 Model Name  Simple Model Accuracy Train  \\\n",
       "0  Decision Tree Classifier                        100.0   \n",
       "1       Logistic Regression                         85.0   \n",
       "2             Random Forest                        100.0   \n",
       "3    Support Vector Machine                         84.6   \n",
       "4                   XGBoost                         90.4   \n",
       "\n",
       "   Simple Model Accuracy Test  \n",
       "0                        77.4  \n",
       "1                        85.0  \n",
       "2                        84.0  \n",
       "3                        84.6  \n",
       "4                        84.2  "
      ]
     },
     "execution_count": 50,
     "metadata": {},
     "output_type": "execute_result"
    }
   ],
   "source": [
    "# Prepare and aggregate the accuracy scores from the model runs on the kfolds\n",
    "results_df = pd.DataFrame( model_results )\n",
    "\n",
    "results_agg_df = results_df.groupby('Model Name')[['Simple Model Accuracy Train', 'Simple Model Accuracy Test']].mean().reset_index()\n",
    "\n",
    "results_agg_df"
   ]
  },
  {
   "cell_type": "markdown",
   "metadata": {},
   "source": [
    "# Simple model candidate results"
   ]
  },
  {
   "cell_type": "code",
   "execution_count": 51,
   "metadata": {
    "ExecuteTime": {
     "end_time": "2021-07-16T03:24:48.885295Z",
     "start_time": "2021-07-16T03:24:48.871342Z"
    }
   },
   "outputs": [],
   "source": [
    "def autolabel(rects):\n",
    "    \"\"\"\n",
    "    Attach a text label above each bar displaying its height\n",
    "    \"\"\"\n",
    "    for rect in rects:\n",
    "        height = rect.get_height()\n",
    "        ax.text(rect.get_x() + rect.get_width()/2., 1.01*height,\n",
    "                '%d' % int(height),\n",
    "                ha='center', va='bottom')\n",
    "        "
   ]
  },
  {
   "cell_type": "markdown",
   "metadata": {},
   "source": [
    "Code above is modified and borrowed from https://stackoverflow.com/questions/45177937/how-can-i-adapt-the-autolabel-function-in-matplotlib-so-that-it-displays-negativ"
   ]
  },
  {
   "cell_type": "code",
   "execution_count": 52,
   "metadata": {
    "ExecuteTime": {
     "end_time": "2021-07-16T03:24:49.909869Z",
     "start_time": "2021-07-16T03:24:48.887290Z"
    }
   },
   "outputs": [
    {
     "data": {
      "image/png": "[encoded data removed]",
      "text/plain": [
       "<Figure size 864x576 with 1 Axes>"
      ]
     },
     "metadata": {
      "needs_background": "light"
     },
     "output_type": "display_data"
    }
   ],
   "source": [
    "labels = results_agg_df['Model Name']\n",
    "train_means = results_agg_df['Simple Model Accuracy Train']\n",
    "test_means = results_agg_df['Simple Model Accuracy Test']\n",
    "\n",
    "x = np.arange(len(labels))  # the label locations\n",
    "width = 0.35  # the width of the bars\n",
    "\n",
    "fig, ax = plt.subplots(figsize=(12,8))\n",
    "rects1 = ax.bar(x - width/2, train_means, width, label='Train Sets')\n",
    "rects2 = ax.bar(x + width/2, test_means, width, label='Test Sets')\n",
    "\n",
    "# Add some text for labels, title and custom x-axis tick labels, etc.\n",
    "ax.set_ylabel('Accuracy Scores')\n",
    "ax.set_title('Scores by Train and Test')\n",
    "ax.set_xticks(x)\n",
    "ax.set_xticklabels(labels)\n",
    "ax.legend()\n",
    "\n",
    "autolabel(rects1)\n",
    "autolabel(rects2)\n",
    "\n",
    "plt.xticks(rotation=45)\n",
    "\n",
    "fig.tight_layout()\n",
    "\n",
    "plt.savefig('ScoresbyTrainandTest.jpg',dpi=300, bbox_inches = 'tight')"
   ]
  },
  {
   "cell_type": "markdown",
   "metadata": {},
   "source": [
    "Notably, there are signs of overfitting occurring within our DecisionTree, SVM, and XGBoost simple models given the higher train set accuracy scores. Nonetheless, it appears Logistic Regression has the highest average test accuracy score and so this is likely the model we want to move forward with and with an optimize.\n",
    "\n",
    "Moreover, given the popularity, and popular hyperparameter optimization packages available for XGBoost, this is also a model I would like to test and move forward with despite the slight overfitting observed.\n",
    "\n",
    "In terms of optimization, we will attempt the following:\n",
    "- Extract feature importance from our more interpretable model -- Decision Tree Classifier\n",
    "- Use Grid Search to find the optimal parameters for our SVM model\n",
    "- Use the popular Optuna hyperparameter optimization library to improve our XGBoost simple model."
   ]
  },
  {
   "cell_type": "markdown",
   "metadata": {},
   "source": [
    "# Feature Importance"
   ]
  },
  {
   "cell_type": "code",
   "execution_count": 53,
   "metadata": {
    "ExecuteTime": {
     "end_time": "2021-07-16T03:24:49.925816Z",
     "start_time": "2021-07-16T03:24:49.911863Z"
    }
   },
   "outputs": [],
   "source": [
    "#For mixed types of numeric, nominal, and ordinal features, use sklearn's ColumnTransformer\n",
    "log_transform = FunctionTransformer(np.log1p, validate=True)\n",
    "\n",
    "t2 = [\n",
    "    (\"log_transform\", FunctionTransformer(np.log1p, validate=True), [get_column_index(df_drop, 'training_hours')]),\n",
    "    (\"pwr_transform\", PowerTransformer(method='yeo-johnson', standardize=True), [get_column_index(df_drop, 'city_development_index')]),\n",
    "    (\"edu_ord\", OrdinalEncoder(categories=edu_level_ord),[get_column_index(df_drop, 'education_level') ]),\n",
    "    (\"exp_ord\", OrdinalEncoder(categories=experience_ord), [get_column_index(df_drop, 'experience') ]),\n",
    "    (\"comp_size_ord\", OrdinalEncoder(categories=company_size_ord), [get_column_index(df_drop, 'company_size') ]),\n",
    "    (\"new_job_ord\", OrdinalEncoder(categories=last_new_job_ord), [get_column_index(df_drop, 'last_new_job') ]),\n",
    "    ]\n",
    "\n",
    "# Columns transformed = ['training_hours', 'city_development_index','education_level','experience','company_size','last_new_job']"
   ]
  },
  {
   "cell_type": "code",
   "execution_count": 54,
   "metadata": {
    "ExecuteTime": {
     "end_time": "2021-07-16T03:24:49.941761Z",
     "start_time": "2021-07-16T03:24:49.928805Z"
    }
   },
   "outputs": [],
   "source": [
    "# Encode our target to binary\n",
    "y_drop = df_drop.target\n",
    "X_drop = df_drop.drop('target',axis=1)\n",
    "\n",
    "label_encoder = LabelEncoder()\n",
    "y_drop = label_encoder.fit_transform(y_drop)"
   ]
  },
  {
   "cell_type": "code",
   "execution_count": 55,
   "metadata": {
    "ExecuteTime": {
     "end_time": "2021-07-16T03:24:50.020502Z",
     "start_time": "2021-07-16T03:24:49.943755Z"
    }
   },
   "outputs": [],
   "source": [
    "ct2 = ColumnTransformer(transformers=t2)\n",
    "X_drop_t = ct2.fit_transform(X_drop)"
   ]
  },
  {
   "cell_type": "code",
   "execution_count": 56,
   "metadata": {
    "ExecuteTime": {
     "end_time": "2021-07-16T03:24:50.051400Z",
     "start_time": "2021-07-16T03:24:50.023489Z"
    }
   },
   "outputs": [
    {
     "data": {
      "text/html": [
       "<div>\n",
       "<style scoped>\n",
       "    .dataframe tbody tr th:only-of-type {\n",
       "        vertical-align: middle;\n",
       "    }\n",
       "\n",
       "    .dataframe tbody tr th {\n",
       "        vertical-align: top;\n",
       "    }\n",
       "\n",
       "    .dataframe thead th {\n",
       "        text-align: right;\n",
       "    }\n",
       "</style>\n",
       "<table border=\"1\" class=\"dataframe\">\n",
       "  <thead>\n",
       "    <tr style=\"text-align: right;\">\n",
       "      <th></th>\n",
       "      <th>training_hours</th>\n",
       "      <th>city_development_index</th>\n",
       "      <th>education_level</th>\n",
       "      <th>experience</th>\n",
       "      <th>company_size</th>\n",
       "      <th>last_new_job</th>\n",
       "    </tr>\n",
       "  </thead>\n",
       "  <tbody>\n",
       "    <tr>\n",
       "      <th>0</th>\n",
       "      <td>3.871201</td>\n",
       "      <td>-0.993870</td>\n",
       "      <td>3.0</td>\n",
       "      <td>16.0</td>\n",
       "      <td>3.0</td>\n",
       "      <td>6.0</td>\n",
       "    </tr>\n",
       "    <tr>\n",
       "      <th>1</th>\n",
       "      <td>2.197225</td>\n",
       "      <td>-1.052303</td>\n",
       "      <td>4.0</td>\n",
       "      <td>22.0</td>\n",
       "      <td>3.0</td>\n",
       "      <td>5.0</td>\n",
       "    </tr>\n",
       "    <tr>\n",
       "      <th>2</th>\n",
       "      <td>2.944439</td>\n",
       "      <td>-1.082999</td>\n",
       "      <td>3.0</td>\n",
       "      <td>14.0</td>\n",
       "      <td>1.0</td>\n",
       "      <td>6.0</td>\n",
       "    </tr>\n",
       "    <tr>\n",
       "      <th>3</th>\n",
       "      <td>3.850148</td>\n",
       "      <td>0.782225</td>\n",
       "      <td>3.0</td>\n",
       "      <td>8.0</td>\n",
       "      <td>3.0</td>\n",
       "      <td>2.0</td>\n",
       "    </tr>\n",
       "    <tr>\n",
       "      <th>4</th>\n",
       "      <td>4.820282</td>\n",
       "      <td>0.782225</td>\n",
       "      <td>3.0</td>\n",
       "      <td>18.0</td>\n",
       "      <td>8.0</td>\n",
       "      <td>6.0</td>\n",
       "    </tr>\n",
       "  </tbody>\n",
       "</table>\n",
       "</div>"
      ],
      "text/plain": [
       "   training_hours  city_development_index  education_level  experience  \\\n",
       "0        3.871201               -0.993870              3.0        16.0   \n",
       "1        2.197225               -1.052303              4.0        22.0   \n",
       "2        2.944439               -1.082999              3.0        14.0   \n",
       "3        3.850148                0.782225              3.0         8.0   \n",
       "4        4.820282                0.782225              3.0        18.0   \n",
       "\n",
       "   company_size  last_new_job  \n",
       "0           3.0           6.0  \n",
       "1           3.0           5.0  \n",
       "2           1.0           6.0  \n",
       "3           3.0           2.0  \n",
       "4           8.0           6.0  "
      ]
     },
     "execution_count": 56,
     "metadata": {},
     "output_type": "execute_result"
    }
   ],
   "source": [
    "# Separate the numeric features of our dataset\n",
    "cols = ['training_hours', 'city_development_index','education_level','experience','company_size','last_new_job']\n",
    "X_drop_t = pd.DataFrame(X_drop_t,columns = cols)\n",
    "\n",
    "X_drop_t.head()"
   ]
  },
  {
   "cell_type": "code",
   "execution_count": 57,
   "metadata": {
    "ExecuteTime": {
     "end_time": "2021-07-16T03:24:50.082298Z",
     "start_time": "2021-07-16T03:24:50.054385Z"
    }
   },
   "outputs": [],
   "source": [
    "# Use pd.get_dummies to encode our nominal category columns\n",
    "major_discipline_dummies = pd.get_dummies(X_drop.major_discipline)\n",
    "major_discipline_dummies.columns = [\"major_discipl_{}\".format(i) for i in major_discipline_dummies.columns]\n",
    "\n",
    "company_type_dummies = pd.get_dummies(X_drop.company_type)\n",
    "company_type_dummies.columns = [\"company_type_{}\".format(i) for i in company_type_dummies.columns]\n",
    "\n",
    "# Concat the encoding of our major discipline and company type features\n",
    "X_drop_dummies = pd.concat([major_discipline_dummies, company_type_dummies], axis=1)"
   ]
  },
  {
   "cell_type": "code",
   "execution_count": 58,
   "metadata": {
    "ExecuteTime": {
     "end_time": "2021-07-16T03:24:50.128150Z",
     "start_time": "2021-07-16T03:24:50.084285Z"
    }
   },
   "outputs": [
    {
     "name": "stdout",
     "output_type": "stream",
     "text": [
      "(11179, 18)\n"
     ]
    },
    {
     "data": {
      "text/html": [
       "<div>\n",
       "<style scoped>\n",
       "    .dataframe tbody tr th:only-of-type {\n",
       "        vertical-align: middle;\n",
       "    }\n",
       "\n",
       "    .dataframe tbody tr th {\n",
       "        vertical-align: top;\n",
       "    }\n",
       "\n",
       "    .dataframe thead th {\n",
       "        text-align: right;\n",
       "    }\n",
       "</style>\n",
       "<table border=\"1\" class=\"dataframe\">\n",
       "  <thead>\n",
       "    <tr style=\"text-align: right;\">\n",
       "      <th></th>\n",
       "      <th>training_hours</th>\n",
       "      <th>city_development_index</th>\n",
       "      <th>education_level</th>\n",
       "      <th>experience</th>\n",
       "      <th>company_size</th>\n",
       "      <th>last_new_job</th>\n",
       "      <th>major_discipl_Arts</th>\n",
       "      <th>major_discipl_Business Degree</th>\n",
       "      <th>major_discipl_Humanities</th>\n",
       "      <th>major_discipl_No Major</th>\n",
       "      <th>major_discipl_Other</th>\n",
       "      <th>major_discipl_STEM</th>\n",
       "      <th>company_type_Early Stage Startup</th>\n",
       "      <th>company_type_Funded Startup</th>\n",
       "      <th>company_type_NGO</th>\n",
       "      <th>company_type_Other</th>\n",
       "      <th>company_type_Public Sector</th>\n",
       "      <th>company_type_Pvt Ltd</th>\n",
       "    </tr>\n",
       "  </thead>\n",
       "  <tbody>\n",
       "    <tr>\n",
       "      <th>0</th>\n",
       "      <td>3.871201</td>\n",
       "      <td>-0.993870</td>\n",
       "      <td>3.0</td>\n",
       "      <td>16.0</td>\n",
       "      <td>3.0</td>\n",
       "      <td>6.0</td>\n",
       "      <td>0</td>\n",
       "      <td>0</td>\n",
       "      <td>0</td>\n",
       "      <td>0</td>\n",
       "      <td>0</td>\n",
       "      <td>1</td>\n",
       "      <td>0</td>\n",
       "      <td>0</td>\n",
       "      <td>0</td>\n",
       "      <td>0</td>\n",
       "      <td>0</td>\n",
       "      <td>1</td>\n",
       "    </tr>\n",
       "    <tr>\n",
       "      <th>1</th>\n",
       "      <td>2.197225</td>\n",
       "      <td>-1.052303</td>\n",
       "      <td>4.0</td>\n",
       "      <td>22.0</td>\n",
       "      <td>3.0</td>\n",
       "      <td>5.0</td>\n",
       "      <td>0</td>\n",
       "      <td>0</td>\n",
       "      <td>0</td>\n",
       "      <td>0</td>\n",
       "      <td>0</td>\n",
       "      <td>1</td>\n",
       "      <td>0</td>\n",
       "      <td>1</td>\n",
       "      <td>0</td>\n",
       "      <td>0</td>\n",
       "      <td>0</td>\n",
       "      <td>0</td>\n",
       "    </tr>\n",
       "    <tr>\n",
       "      <th>2</th>\n",
       "      <td>2.944439</td>\n",
       "      <td>-1.082999</td>\n",
       "      <td>3.0</td>\n",
       "      <td>14.0</td>\n",
       "      <td>1.0</td>\n",
       "      <td>6.0</td>\n",
       "      <td>0</td>\n",
       "      <td>0</td>\n",
       "      <td>0</td>\n",
       "      <td>0</td>\n",
       "      <td>0</td>\n",
       "      <td>1</td>\n",
       "      <td>0</td>\n",
       "      <td>0</td>\n",
       "      <td>0</td>\n",
       "      <td>0</td>\n",
       "      <td>0</td>\n",
       "      <td>1</td>\n",
       "    </tr>\n",
       "    <tr>\n",
       "      <th>3</th>\n",
       "      <td>3.850148</td>\n",
       "      <td>0.782225</td>\n",
       "      <td>3.0</td>\n",
       "      <td>8.0</td>\n",
       "      <td>3.0</td>\n",
       "      <td>2.0</td>\n",
       "      <td>0</td>\n",
       "      <td>0</td>\n",
       "      <td>0</td>\n",
       "      <td>0</td>\n",
       "      <td>0</td>\n",
       "      <td>1</td>\n",
       "      <td>0</td>\n",
       "      <td>0</td>\n",
       "      <td>0</td>\n",
       "      <td>0</td>\n",
       "      <td>0</td>\n",
       "      <td>1</td>\n",
       "    </tr>\n",
       "    <tr>\n",
       "      <th>4</th>\n",
       "      <td>4.820282</td>\n",
       "      <td>0.782225</td>\n",
       "      <td>3.0</td>\n",
       "      <td>18.0</td>\n",
       "      <td>8.0</td>\n",
       "      <td>6.0</td>\n",
       "      <td>0</td>\n",
       "      <td>0</td>\n",
       "      <td>0</td>\n",
       "      <td>0</td>\n",
       "      <td>0</td>\n",
       "      <td>1</td>\n",
       "      <td>0</td>\n",
       "      <td>0</td>\n",
       "      <td>0</td>\n",
       "      <td>0</td>\n",
       "      <td>0</td>\n",
       "      <td>1</td>\n",
       "    </tr>\n",
       "  </tbody>\n",
       "</table>\n",
       "</div>"
      ],
      "text/plain": [
       "   training_hours  city_development_index  education_level  experience  \\\n",
       "0        3.871201               -0.993870              3.0        16.0   \n",
       "1        2.197225               -1.052303              4.0        22.0   \n",
       "2        2.944439               -1.082999              3.0        14.0   \n",
       "3        3.850148                0.782225              3.0         8.0   \n",
       "4        4.820282                0.782225              3.0        18.0   \n",
       "\n",
       "   company_size  last_new_job  major_discipl_Arts  \\\n",
       "0           3.0           6.0                   0   \n",
       "1           3.0           5.0                   0   \n",
       "2           1.0           6.0                   0   \n",
       "3           3.0           2.0                   0   \n",
       "4           8.0           6.0                   0   \n",
       "\n",
       "   major_discipl_Business Degree  major_discipl_Humanities  \\\n",
       "0                              0                         0   \n",
       "1                              0                         0   \n",
       "2                              0                         0   \n",
       "3                              0                         0   \n",
       "4                              0                         0   \n",
       "\n",
       "   major_discipl_No Major  major_discipl_Other  major_discipl_STEM  \\\n",
       "0                       0                    0                   1   \n",
       "1                       0                    0                   1   \n",
       "2                       0                    0                   1   \n",
       "3                       0                    0                   1   \n",
       "4                       0                    0                   1   \n",
       "\n",
       "   company_type_Early Stage Startup  company_type_Funded Startup  \\\n",
       "0                                 0                            0   \n",
       "1                                 0                            1   \n",
       "2                                 0                            0   \n",
       "3                                 0                            0   \n",
       "4                                 0                            0   \n",
       "\n",
       "   company_type_NGO  company_type_Other  company_type_Public Sector  \\\n",
       "0                 0                   0                           0   \n",
       "1                 0                   0                           0   \n",
       "2                 0                   0                           0   \n",
       "3                 0                   0                           0   \n",
       "4                 0                   0                           0   \n",
       "\n",
       "   company_type_Pvt Ltd  \n",
       "0                     1  \n",
       "1                     0  \n",
       "2                     1  \n",
       "3                     1  \n",
       "4                     1  "
      ]
     },
     "execution_count": 58,
     "metadata": {},
     "output_type": "execute_result"
    }
   ],
   "source": [
    "# Concatenate transformed columns\n",
    "X_drop_fin = pd.concat([X_drop_t.reset_index(drop=True), X_drop_dummies.reset_index(drop=True)], axis=1 )\n",
    "X_drop_fin.fillna(0,inplace=True)\n",
    "print(X_drop_fin.shape)\n",
    "X_drop_fin.head()"
   ]
  },
  {
   "cell_type": "code",
   "execution_count": 59,
   "metadata": {
    "ExecuteTime": {
     "end_time": "2021-07-16T03:24:50.206878Z",
     "start_time": "2021-07-16T03:24:50.131131Z"
    }
   },
   "outputs": [
    {
     "data": {
      "text/plain": [
       "DecisionTreeClassifier()"
      ]
     },
     "execution_count": 59,
     "metadata": {},
     "output_type": "execute_result"
    }
   ],
   "source": [
    "# Instantiate and fit DecisionTreeClassifier\n",
    "dt = DecisionTreeClassifier()\n",
    "dt.fit(X_drop_fin, y_drop)"
   ]
  },
  {
   "cell_type": "code",
   "execution_count": 60,
   "metadata": {
    "ExecuteTime": {
     "end_time": "2021-07-16T03:24:51.391203Z",
     "start_time": "2021-07-16T03:24:50.210862Z"
    },
    "scrolled": false
   },
   "outputs": [
    {
     "data": {
      "image/png": "[encoded data removed]",
      "text/plain": [
       "<Figure size 864x576 with 1 Axes>"
      ]
     },
     "metadata": {
      "needs_background": "light"
     },
     "output_type": "display_data"
    }
   ],
   "source": [
    "# Plot feature importances.\n",
    "fig, ax = plt.subplots(figsize=(12,8))\n",
    "ax.barh(X_drop_fin.columns, dt.feature_importances_, color='tab:blue')\n",
    "ax.set(title='Feature Importances')\n",
    "fig.tight_layout()\n",
    "\n",
    "plt.savefig('FeatureImportances.jpg',dpi=300, bbox_inches = 'tight')"
   ]
  },
  {
   "cell_type": "markdown",
   "metadata": {},
   "source": [
    "In order to get a better sense of the features that have a higher relevance in determining whether a participant will work for the data science training company or look for a new job, we used a simple DecisionTreeClassifier and extracted its determined feature importances.\n",
    "\n",
    "As a result, we are able to observe that the city development index of the city where the participant is from plays the most important role in determining whether they will look for a new job or not. In descending order, the top 6 features include: \n",
    "\n",
    "1. City Development Index (from where the participant is from)\n",
    "2. Training Hours Completed\n",
    "3. Years of Experience\n",
    "4. Current Company Size\n",
    "5. Difference in years between previous job and current job\n",
    "6. Highest Level of Education"
   ]
  },
  {
   "cell_type": "markdown",
   "metadata": {},
   "source": [
    "# Hyperparameter Tuning - Logistic Regression"
   ]
  },
  {
   "cell_type": "code",
   "execution_count": 61,
   "metadata": {
    "ExecuteTime": {
     "end_time": "2021-07-16T03:24:51.406168Z",
     "start_time": "2021-07-16T03:24:51.394195Z"
    }
   },
   "outputs": [],
   "source": [
    "# Encode our target to binary\n",
    "y_drop = df_drop.target\n",
    "X_drop = df_drop.drop('target',axis=1)\n",
    "\n",
    "relevent_features = ['training_hours','city_development_index','education_level','experience','company_size','last_new_job']\n",
    "X_drop = X_drop[relevent_features]\n",
    "\n",
    "label_encoder = LabelEncoder()\n",
    "y_drop = label_encoder.fit_transform(y_drop)"
   ]
  },
  {
   "cell_type": "code",
   "execution_count": 62,
   "metadata": {
    "ExecuteTime": {
     "end_time": "2021-07-16T03:24:51.422101Z",
     "start_time": "2021-07-16T03:24:51.411136Z"
    }
   },
   "outputs": [],
   "source": [
    "# Most dropuent imputation and train test split\n",
    "X_train_drop, X_test_drop, y_train_drop, y_test_drop = train_test_split(X_drop, y_drop, test_size=0.33)"
   ]
  },
  {
   "cell_type": "code",
   "execution_count": 63,
   "metadata": {
    "ExecuteTime": {
     "end_time": "2021-07-16T03:24:51.437263Z",
     "start_time": "2021-07-16T03:24:51.426087Z"
    }
   },
   "outputs": [],
   "source": [
    "# Set up modified transformer for the relevant features selected from previous step\n",
    "t3 = [\n",
    "    (\"log_transform\", FunctionTransformer(np.log1p, validate=True), [get_column_index(X_train_drop, 'training_hours')]),\n",
    "    (\"pwr_transform\", PowerTransformer(method='yeo-johnson', standardize=True), [get_column_index(X_train_drop, 'city_development_index')]),\n",
    "    (\"edu_ord\", OrdinalEncoder(categories=edu_level_ord),[get_column_index(X_train_drop, 'education_level') ]),\n",
    "    (\"exp_ord\", OrdinalEncoder(categories=experience_ord), [get_column_index(X_train_drop, 'experience') ]),\n",
    "    (\"comp_size_ord\", OrdinalEncoder(categories=company_size_ord), [get_column_index(X_train_drop, 'company_size') ]),\n",
    "    (\"new_job_ord\", OrdinalEncoder(categories=last_new_job_ord), [get_column_index(X_train_drop, 'last_new_job') ]),\n",
    "    ]"
   ]
  },
  {
   "cell_type": "code",
   "execution_count": 64,
   "metadata": {
    "ExecuteTime": {
     "end_time": "2021-07-16T03:24:51.484642Z",
     "start_time": "2021-07-16T03:24:51.440265Z"
    },
    "scrolled": false
   },
   "outputs": [],
   "source": [
    "# Reuse previously created ColumnTransformer and Pipeline\n",
    "ct = ColumnTransformer(transformers=t3)\n",
    "\n",
    "# Instantiate our SVM\n",
    "lr = LogisticRegression()\n",
    "\n",
    "X_train_drop = ct.fit_transform(X_train_drop)"
   ]
  },
  {
   "cell_type": "code",
   "execution_count": 65,
   "metadata": {
    "ExecuteTime": {
     "end_time": "2021-07-16T03:24:53.592261Z",
     "start_time": "2021-07-16T03:24:51.486641Z"
    },
    "scrolled": true
   },
   "outputs": [
    {
     "data": {
      "text/plain": [
       "GridSearchCV(cv=<generator object _BaseKFold.split at 0x000001AF84EFCBA0>,\n",
       "             estimator=LogisticRegression(),\n",
       "             param_grid={'C': [100, 10, 1.0, 0.1, 0.01],\n",
       "                         'penalty': ['l1', 'l2'],\n",
       "                         'solver': ['newton-cg', 'lbfgs', 'liblinear']})"
      ]
     },
     "execution_count": 65,
     "metadata": {},
     "output_type": "execute_result"
    }
   ],
   "source": [
    "# # defining parameter range\n",
    "kfolds = StratifiedKFold(3)\n",
    "\n",
    "param_grid = { 'solver': ['newton-cg', 'lbfgs', 'liblinear'],\n",
    "               'penalty' : ['l1', 'l2'],\n",
    "               'C' : [100, 10, 1.0, 0.1, 0.01] }\n",
    "  \n",
    "grid = GridSearchCV(lr, param_grid, refit = True, cv=kfolds.split(X_train_drop,y_train_drop))\n",
    "  \n",
    "# fitting the model for grid search\n",
    "grid.fit(X_train_drop, y_train_drop)"
   ]
  },
  {
   "cell_type": "code",
   "execution_count": 66,
   "metadata": {
    "ExecuteTime": {
     "end_time": "2021-07-16T03:24:53.608213Z",
     "start_time": "2021-07-16T03:24:53.594298Z"
    }
   },
   "outputs": [
    {
     "name": "stdout",
     "output_type": "stream",
     "text": [
      "Best Params: {'C': 0.1, 'penalty': 'l1', 'solver': 'liblinear'}\n"
     ]
    }
   ],
   "source": [
    "# Examine best params\n",
    "print(f'Best Params: {grid.best_params_}')"
   ]
  },
  {
   "cell_type": "code",
   "execution_count": 67,
   "metadata": {
    "ExecuteTime": {
     "end_time": "2021-07-16T03:24:53.624162Z",
     "start_time": "2021-07-16T03:24:53.618213Z"
    }
   },
   "outputs": [],
   "source": [
    "# Set up new LR model using grid.best_params_\n",
    "lr_best = LogisticRegression(**grid.best_params_)"
   ]
  },
  {
   "cell_type": "code",
   "execution_count": 68,
   "metadata": {
    "ExecuteTime": {
     "end_time": "2021-07-16T03:24:53.719922Z",
     "start_time": "2021-07-16T03:24:53.632133Z"
    }
   },
   "outputs": [
    {
     "name": "stdout",
     "output_type": "stream",
     "text": [
      "              precision    recall  f1-score   support\n",
      "\n",
      "           0       0.84      0.98      0.90      3043\n",
      "           1       0.57      0.14      0.23       647\n",
      "\n",
      "    accuracy                           0.83      3690\n",
      "   macro avg       0.71      0.56      0.57      3690\n",
      "weighted avg       0.79      0.83      0.79      3690\n",
      "\n"
     ]
    }
   ],
   "source": [
    "# Fit the best params derived from the grid search towards the train set\n",
    "lr_best.fit(X_train_drop, y_train_drop)\n",
    "\n",
    "# Perform ColumnTransformer on Test set\n",
    "X_test_drop = ct.fit_transform(X_test_drop)\n",
    "\n",
    "# Perform predictions using best params from GridSearch\n",
    "yhat_lr_best = lr_best.predict(X_test_drop)\n",
    "\n",
    "print(classification_report(y_test_drop, yhat_lr_best))"
   ]
  },
  {
   "cell_type": "markdown",
   "metadata": {},
   "source": [
    "## Plot ROC AUC Curve - LR with Hyperparameter Tuning"
   ]
  },
  {
   "cell_type": "code",
   "execution_count": 69,
   "metadata": {
    "ExecuteTime": {
     "end_time": "2021-07-16T03:24:54.350219Z",
     "start_time": "2021-07-16T03:24:53.721906Z"
    },
    "scrolled": false
   },
   "outputs": [
    {
     "name": "stdout",
     "output_type": "stream",
     "text": [
      "No Skill: ROC AUC=0.500\n",
      "Logistic: ROC AUC=0.560\n"
     ]
    },
    {
     "data": {
      "image/png": "[encoded data removed]",
      "text/plain": [
       "<Figure size 720x576 with 1 Axes>"
      ]
     },
     "metadata": {
      "needs_background": "light"
     },
     "output_type": "display_data"
    }
   ],
   "source": [
    "fig, ax = plt.subplots(figsize=(10,8))\n",
    "\n",
    "# generate a no skill prediction (majority class)\n",
    "ns_probs = [0 for _ in range(len(y_test_drop))]\n",
    "\n",
    "# calculate scores\n",
    "ns_auc = roc_auc_score(y_test_drop, ns_probs)\n",
    "lr_auc = roc_auc_score(y_test_drop, yhat_lr_best)\n",
    "# summarize scores\n",
    "print('No Skill: ROC AUC=%.3f' % (ns_auc))\n",
    "print('Logistic: ROC AUC=%.3f' % (lr_auc))\n",
    "# calculate roc curves\n",
    "ns_fpr, ns_tpr, _ = roc_curve(y_test_drop, ns_probs)\n",
    "lr_fpr, lr_tpr, _ = roc_curve(y_test_drop, yhat_lr_best)\n",
    "# plot the roc curve for the model\n",
    "plt.plot(ns_fpr, ns_tpr, linestyle='--', label='No Skill')\n",
    "plt.plot(lr_fpr, lr_tpr, marker='.', label='Logistic')\n",
    "# axis labels\n",
    "plt.xlabel('False Positive Rate')\n",
    "plt.ylabel('True Positive Rate')\n",
    "\n",
    "plt.title(\"Receiver operating characteristic (ROC) Curve - LR Hyperparameter Tuning\")\n",
    "\n",
    "# show the legend\n",
    "plt.legend()\n",
    "\n",
    "# Save fig\n",
    "plt.savefig('LRFinal_ROCCurve_drop.jpg',dpi=300, bbox_inches = 'tight');"
   ]
  },
  {
   "cell_type": "markdown",
   "metadata": {},
   "source": [
    "It appears that there is a slight drop in accuracy from our simple logistic regression model to our hypertuned model (85% --> 83% ). Moreover, the true positive rate is still quite low, hovering slightly less than 0.2. \n",
    "\n",
    "It is worth noting that while the model is performing well in predicting whether a person will work for the company (class 0), the model still struggles in understanding whether a person will look for a new job, and so it is still not very informative in telling the company whether a person will look for a new job (class 1), and hence hamper the company's ability to adjust to the characteristics and the course for folks looking to leave their job."
   ]
  },
  {
   "cell_type": "markdown",
   "metadata": {},
   "source": [
    "# Hyperparameter Tuning - XGBoost"
   ]
  },
  {
   "cell_type": "markdown",
   "metadata": {},
   "source": [
    "Code below is modified and borrowed from optuna.org"
   ]
  },
  {
   "cell_type": "code",
   "execution_count": 70,
   "metadata": {
    "ExecuteTime": {
     "end_time": "2021-07-16T03:24:54.380161Z",
     "start_time": "2021-07-16T03:24:54.352208Z"
    },
    "scrolled": true
   },
   "outputs": [],
   "source": [
    "def objective(trial):\n",
    "    y_drop = df_drop.target\n",
    "    X_drop = df_drop.drop('target',axis=1)\n",
    "    \n",
    "    label_encoder = LabelEncoder()\n",
    "    y_drop = label_encoder.fit_transform(y_drop)\n",
    "    \n",
    "    skf = StratifiedKFold(n_splits=5)\n",
    "\n",
    "    scores = []\n",
    "    \n",
    "    for train_index, test_index in skf.split(X_drop,y_drop):\n",
    "        train_x, test_x = X_drop.iloc[train_index], X_drop.iloc[test_index]\n",
    "        train_y, test_y = y_drop[train_index], y_drop[test_index]\n",
    "\n",
    "        ct = ColumnTransformer(transformers=t2)\n",
    "\n",
    "        train_x = ct.fit_transform(train_x)\n",
    "        test_x = ct.fit_transform(test_x)\n",
    "\n",
    "        dtrain = xgb.DMatrix(train_x, label=train_y, enable_categorical=True)\n",
    "        dtest = xgb.DMatrix(test_x, label=test_y, enable_categorical=True)\n",
    "\n",
    "        param = {\n",
    "#             \"silent\": 1,\n",
    "            \"objective\": \"binary:logistic\",\n",
    "            \"eval_metric\": \"auc\",\n",
    "            \"booster\": trial.suggest_categorical(\"booster\", [\"gbtree\", \"gblinear\", \"dart\"]),\n",
    "            \"lambda\": trial.suggest_loguniform(\"lambda\", 1e-8, 1.0),\n",
    "            \"alpha\": trial.suggest_loguniform(\"alpha\", 1e-8, 1.0),\n",
    "        }\n",
    "\n",
    "        if param[\"booster\"] == \"gbtree\" or param[\"booster\"] == \"dart\":\n",
    "            param[\"max_depth\"] = trial.suggest_int(\"max_depth\", 1, 9)\n",
    "            param[\"eta\"] = trial.suggest_loguniform(\"eta\", 1e-8, 1.0)\n",
    "            param[\"gamma\"] = trial.suggest_loguniform(\"gamma\", 1e-8, 1.0)\n",
    "            param[\"grow_policy\"] = trial.suggest_categorical(\"grow_policy\", [\"depthwise\", \"lossguide\"])\n",
    "        if param[\"booster\"] == \"dart\":\n",
    "            param[\"sample_type\"] = trial.suggest_categorical(\"sample_type\", [\"uniform\", \"weighted\"])\n",
    "            param[\"normalize_type\"] = trial.suggest_categorical(\"normalize_type\", [\"tree\", \"forest\"])\n",
    "            param[\"rate_drop\"] = trial.suggest_loguniform(\"rate_drop\", 1e-8, 1.0)\n",
    "            param[\"skip_drop\"] = trial.suggest_loguniform(\"skip_drop\", 1e-8, 1.0)\n",
    "\n",
    "        bst = xgb.train(param, dtrain)\n",
    "        preds = bst.predict(dtest)\n",
    "        pred_labels = np.rint(preds)\n",
    "        accuracy = accuracy_score(test_y, pred_labels)\n",
    "        \n",
    "        scores.append(accuracy)\n",
    "    return np.mean(scores)"
   ]
  },
  {
   "cell_type": "code",
   "execution_count": 71,
   "metadata": {
    "ExecuteTime": {
     "end_time": "2021-07-16T03:25:45.604359Z",
     "start_time": "2021-07-16T03:24:54.382149Z"
    },
    "scrolled": true
   },
   "outputs": [
    {
     "data": {
      "application/vnd.jupyter.widget-view+json": {
       "model_id": "d3a1f8b6b11d4684a24129619fe9e83c",
       "version_major": 2,
       "version_minor": 0
      },
      "text/plain": [
       "HBox(children=(HTML(value=''), FloatProgress(value=0.0), HTML(value='')))"
      ]
     },
     "metadata": {},
     "output_type": "display_data"
    },
    {
     "name": "stdout",
     "output_type": "stream",
     "text": [
      "\n"
     ]
    }
   ],
   "source": [
    "# Suppress log statements\n",
    "optuna.logging.set_verbosity(optuna.logging.WARNING)\n",
    "\n",
    "# Run hyperparameter tuning study with optuna\n",
    "study = optuna.create_study()\n",
    "study.optimize(objective, n_trials=100, show_progress_bar=True)"
   ]
  },
  {
   "cell_type": "code",
   "execution_count": 72,
   "metadata": {
    "ExecuteTime": {
     "end_time": "2021-07-16T03:25:45.620306Z",
     "start_time": "2021-07-16T03:25:45.606352Z"
    }
   },
   "outputs": [
    {
     "name": "stdout",
     "output_type": "stream",
     "text": [
      "    booster: dart\n",
      "    lambda: 6.25424868754657e-08\n",
      "    alpha: 0.3378532035423785\n",
      "    max_depth: 8\n",
      "    eta: 1.0845380910357793e-08\n",
      "    gamma: 0.0032795800919795575\n",
      "    grow_policy: depthwise\n",
      "    sample_type: uniform\n",
      "    normalize_type: forest\n",
      "    rate_drop: 2.5922928219214717e-05\n",
      "    skip_drop: 6.542375917105823e-07\n"
     ]
    }
   ],
   "source": [
    "# Print best params\n",
    "for key, value in study.best_trial.params.items():\n",
    "    print(f\"    {key}: {value}\")"
   ]
  },
  {
   "cell_type": "code",
   "execution_count": 87,
   "metadata": {
    "ExecuteTime": {
     "end_time": "2021-07-16T03:30:57.785414Z",
     "start_time": "2021-07-16T03:30:57.766423Z"
    }
   },
   "outputs": [],
   "source": [
    "# Based on best params from optuna hyperparameter tuning, use the best params\n",
    "params = {\n",
    "    'booster': 'dart',\n",
    "    'lambda': 6.25424868754657e-08,\n",
    "    'alpha': 0.3378532035423785,\n",
    "    'max_depth': 8,\n",
    "    'eta': 1.0845380910357793e-08,\n",
    "    'gamma': 0.0032795800919795575,\n",
    "    'grow_policy': 'depthwise',\n",
    "    'sample_type': 'uniform',\n",
    "    'normalize_type': 'forest',\n",
    "    'rate_drop': 2.5922928219214717e-05,\n",
    "    'skip_drop': 6.542375917105823e-07\n",
    "     }\n",
    "\n",
    "xgb_clf_fin = xgb.XGBClassifier(params=params)"
   ]
  },
  {
   "cell_type": "code",
   "execution_count": 88,
   "metadata": {
    "ExecuteTime": {
     "end_time": "2021-07-16T03:31:03.474934Z",
     "start_time": "2021-07-16T03:31:03.444037Z"
    }
   },
   "outputs": [
    {
     "data": {
      "text/html": [
       "<div>\n",
       "<style scoped>\n",
       "    .dataframe tbody tr th:only-of-type {\n",
       "        vertical-align: middle;\n",
       "    }\n",
       "\n",
       "    .dataframe tbody tr th {\n",
       "        vertical-align: top;\n",
       "    }\n",
       "\n",
       "    .dataframe thead th {\n",
       "        text-align: right;\n",
       "    }\n",
       "</style>\n",
       "<table border=\"1\" class=\"dataframe\">\n",
       "  <thead>\n",
       "    <tr style=\"text-align: right;\">\n",
       "      <th></th>\n",
       "      <th>number</th>\n",
       "      <th>value</th>\n",
       "      <th>datetime_start</th>\n",
       "      <th>datetime_complete</th>\n",
       "      <th>duration</th>\n",
       "      <th>params_alpha</th>\n",
       "      <th>params_booster</th>\n",
       "      <th>params_eta</th>\n",
       "      <th>params_gamma</th>\n",
       "      <th>params_grow_policy</th>\n",
       "      <th>params_lambda</th>\n",
       "      <th>params_max_depth</th>\n",
       "      <th>params_normalize_type</th>\n",
       "      <th>params_rate_drop</th>\n",
       "      <th>params_sample_type</th>\n",
       "      <th>params_skip_drop</th>\n",
       "      <th>state</th>\n",
       "    </tr>\n",
       "  </thead>\n",
       "  <tbody>\n",
       "    <tr>\n",
       "      <th>0</th>\n",
       "      <td>0</td>\n",
       "      <td>0.832455</td>\n",
       "      <td>2021-07-15 20:24:54.415039</td>\n",
       "      <td>2021-07-15 20:24:55.128653</td>\n",
       "      <td>0 days 00:00:00.713614</td>\n",
       "      <td>9.805686e-05</td>\n",
       "      <td>gbtree</td>\n",
       "      <td>0.169605</td>\n",
       "      <td>1.133916e-03</td>\n",
       "      <td>lossguide</td>\n",
       "      <td>7.051081e-07</td>\n",
       "      <td>3.0</td>\n",
       "      <td>NaN</td>\n",
       "      <td>NaN</td>\n",
       "      <td>NaN</td>\n",
       "      <td>NaN</td>\n",
       "      <td>COMPLETE</td>\n",
       "    </tr>\n",
       "    <tr>\n",
       "      <th>1</th>\n",
       "      <td>1</td>\n",
       "      <td>0.833886</td>\n",
       "      <td>2021-07-15 20:24:55.131642</td>\n",
       "      <td>2021-07-15 20:24:55.812364</td>\n",
       "      <td>0 days 00:00:00.680722</td>\n",
       "      <td>1.468879e-08</td>\n",
       "      <td>dart</td>\n",
       "      <td>0.001029</td>\n",
       "      <td>1.366503e-02</td>\n",
       "      <td>depthwise</td>\n",
       "      <td>5.448551e-07</td>\n",
       "      <td>5.0</td>\n",
       "      <td>forest</td>\n",
       "      <td>1.628754e-01</td>\n",
       "      <td>uniform</td>\n",
       "      <td>0.000040</td>\n",
       "      <td>COMPLETE</td>\n",
       "    </tr>\n",
       "    <tr>\n",
       "      <th>2</th>\n",
       "      <td>2</td>\n",
       "      <td>0.833886</td>\n",
       "      <td>2021-07-15 20:24:55.815357</td>\n",
       "      <td>2021-07-15 20:24:56.481579</td>\n",
       "      <td>0 days 00:00:00.666222</td>\n",
       "      <td>1.257218e-08</td>\n",
       "      <td>gbtree</td>\n",
       "      <td>0.000143</td>\n",
       "      <td>1.328236e-06</td>\n",
       "      <td>lossguide</td>\n",
       "      <td>9.187705e-03</td>\n",
       "      <td>5.0</td>\n",
       "      <td>NaN</td>\n",
       "      <td>NaN</td>\n",
       "      <td>NaN</td>\n",
       "      <td>NaN</td>\n",
       "      <td>COMPLETE</td>\n",
       "    </tr>\n",
       "    <tr>\n",
       "      <th>3</th>\n",
       "      <td>3</td>\n",
       "      <td>0.829323</td>\n",
       "      <td>2021-07-15 20:24:56.483572</td>\n",
       "      <td>2021-07-15 20:24:57.250641</td>\n",
       "      <td>0 days 00:00:00.767069</td>\n",
       "      <td>5.169953e-02</td>\n",
       "      <td>dart</td>\n",
       "      <td>0.000887</td>\n",
       "      <td>4.527374e-07</td>\n",
       "      <td>depthwise</td>\n",
       "      <td>1.266738e-02</td>\n",
       "      <td>7.0</td>\n",
       "      <td>forest</td>\n",
       "      <td>8.627321e-08</td>\n",
       "      <td>uniform</td>\n",
       "      <td>0.000047</td>\n",
       "      <td>COMPLETE</td>\n",
       "    </tr>\n",
       "    <tr>\n",
       "      <th>4</th>\n",
       "      <td>4</td>\n",
       "      <td>0.833259</td>\n",
       "      <td>2021-07-15 20:24:57.253631</td>\n",
       "      <td>2021-07-15 20:24:57.961353</td>\n",
       "      <td>0 days 00:00:00.707722</td>\n",
       "      <td>3.229605e-02</td>\n",
       "      <td>gbtree</td>\n",
       "      <td>0.027360</td>\n",
       "      <td>2.583721e-01</td>\n",
       "      <td>lossguide</td>\n",
       "      <td>1.473528e-05</td>\n",
       "      <td>7.0</td>\n",
       "      <td>NaN</td>\n",
       "      <td>NaN</td>\n",
       "      <td>NaN</td>\n",
       "      <td>NaN</td>\n",
       "      <td>COMPLETE</td>\n",
       "    </tr>\n",
       "  </tbody>\n",
       "</table>\n",
       "</div>"
      ],
      "text/plain": [
       "   number     value             datetime_start          datetime_complete  \\\n",
       "0       0  0.832455 2021-07-15 20:24:54.415039 2021-07-15 20:24:55.128653   \n",
       "1       1  0.833886 2021-07-15 20:24:55.131642 2021-07-15 20:24:55.812364   \n",
       "2       2  0.833886 2021-07-15 20:24:55.815357 2021-07-15 20:24:56.481579   \n",
       "3       3  0.829323 2021-07-15 20:24:56.483572 2021-07-15 20:24:57.250641   \n",
       "4       4  0.833259 2021-07-15 20:24:57.253631 2021-07-15 20:24:57.961353   \n",
       "\n",
       "                duration  params_alpha params_booster  params_eta  \\\n",
       "0 0 days 00:00:00.713614  9.805686e-05         gbtree    0.169605   \n",
       "1 0 days 00:00:00.680722  1.468879e-08           dart    0.001029   \n",
       "2 0 days 00:00:00.666222  1.257218e-08         gbtree    0.000143   \n",
       "3 0 days 00:00:00.767069  5.169953e-02           dart    0.000887   \n",
       "4 0 days 00:00:00.707722  3.229605e-02         gbtree    0.027360   \n",
       "\n",
       "   params_gamma params_grow_policy  params_lambda  params_max_depth  \\\n",
       "0  1.133916e-03          lossguide   7.051081e-07               3.0   \n",
       "1  1.366503e-02          depthwise   5.448551e-07               5.0   \n",
       "2  1.328236e-06          lossguide   9.187705e-03               5.0   \n",
       "3  4.527374e-07          depthwise   1.266738e-02               7.0   \n",
       "4  2.583721e-01          lossguide   1.473528e-05               7.0   \n",
       "\n",
       "  params_normalize_type  params_rate_drop params_sample_type  \\\n",
       "0                   NaN               NaN                NaN   \n",
       "1                forest      1.628754e-01            uniform   \n",
       "2                   NaN               NaN                NaN   \n",
       "3                forest      8.627321e-08            uniform   \n",
       "4                   NaN               NaN                NaN   \n",
       "\n",
       "   params_skip_drop     state  \n",
       "0               NaN  COMPLETE  \n",
       "1          0.000040  COMPLETE  \n",
       "2               NaN  COMPLETE  \n",
       "3          0.000047  COMPLETE  \n",
       "4               NaN  COMPLETE  "
      ]
     },
     "execution_count": 88,
     "metadata": {},
     "output_type": "execute_result"
    }
   ],
   "source": [
    "hist = study.trials_dataframe()\n",
    "hist.head()"
   ]
  },
  {
   "cell_type": "code",
   "execution_count": 89,
   "metadata": {
    "ExecuteTime": {
     "end_time": "2021-07-16T03:31:09.501334Z",
     "start_time": "2021-07-16T03:31:09.457482Z"
    }
   },
   "outputs": [
    {
     "data": {
      "application/vnd.plotly.v1+json": {
       "config": {
        "plotlyServerURL": "https://plot.ly"
       },
       "data": [
        {
         "mode": "markers",
         "name": "Objective Value",
         "type": "scatter",
         "x": [
          0,
          1,
          2,
          3,
          4,
          5,
          6,
          7,
          8,
          9,
          10,
          11,
          12,
          13,
          14,
          15,
          16,
          17,
          18,
          19,
          20,
          21,
          22,
          23,
          24,
          25,
          26,
          27,
          28,
          29,
          30,
          31,
          32,
          33,
          34,
          35,
          36,
          37,
          38,
          39,
          40,
          41,
          42,
          43,
          44,
          45,
          46,
          47,
          48,
          49,
          50,
          51,
          52,
          53,
          54,
          55,
          56,
          57,
          58,
          59,
          60,
          61,
          62,
          63,
          64,
          65,
          66,
          67,
          68,
          69,
          70,
          71,
          72,
          73,
          74,
          75,
          76,
          77,
          78,
          79,
          80,
          81,
          82,
          83,
          84,
          85,
          86,
          87,
          88,
          89,
          90,
          91,
          92,
          93,
          94,
          95,
          96,
          97,
          98,
          99
         ],
         "y": [
          0.832454646960656,
          0.8338859340544996,
          0.8338859340544996,
          0.8293233762751477,
          0.8332594157832179,
          0.834154430450669,
          0.833796488616217,
          0.8324544068386739,
          0.8244924821809481,
          0.832812468734117,
          0.8269966743105497,
          0.8263706763035621,
          0.8263704762019106,
          0.8266393327810528,
          0.8203775117759822,
          0.8263709564458745,
          0.8203775117759822,
          0.8203775117759822,
          0.8203775117759822,
          0.8208248990487167,
          0.8203775117759822,
          0.8203775117759822,
          0.8203775117759822,
          0.8203775117759822,
          0.8204670372549255,
          0.8203775117759822,
          0.8203775117759822,
          0.8203775117759822,
          0.8231508806473687,
          0.8244029166816743,
          0.8209144645479904,
          0.8203775117759822,
          0.8203775117759822,
          0.8203775117759822,
          0.8203775117759822,
          0.8203775117759822,
          0.834154430450669,
          0.8203775117759822,
          0.8203775117759822,
          0.8344226066841955,
          0.8335283123826904,
          0.8203775117759822,
          0.8203775117759822,
          0.8203775117759822,
          0.8203775117759822,
          0.8288760690430739,
          0.8203775117759822,
          0.8203775117759822,
          0.825655232858292,
          0.8334387869037473,
          0.8203775117759822,
          0.8203775117759822,
          0.822613967895691,
          0.8203775117759822,
          0.8203775117759822,
          0.8203775117759822,
          0.8346910630600345,
          0.8271757652887667,
          0.8204669572142649,
          0.8203775117759822,
          0.8203775117759822,
          0.8203775117759822,
          0.8203775117759822,
          0.8203775117759822,
          0.8203775117759822,
          0.8203775117759822,
          0.8203775117759822,
          0.8203775117759822,
          0.8203775117759822,
          0.8203775117759822,
          0.8336172775770091,
          0.8203775117759822,
          0.8234191369215562,
          0.8203775117759822,
          0.8203775117759822,
          0.8203775117759822,
          0.8279808542739712,
          0.8193039263946085,
          0.8218083186258619,
          0.8281605055368126,
          0.8292338507962045,
          0.8203775117759822,
          0.8216298679729303,
          0.8237767986136957,
          0.8203775117759822,
          0.8279808542739712,
          0.8203775117759822,
          0.8324544068386739,
          0.8203775117759822,
          0.8203775117759822,
          0.8203775117759822,
          0.8203775117759822,
          0.8270865599724659,
          0.8284282415467057,
          0.8203775117759822,
          0.8203775117759822,
          0.8203775117759822,
          0.8299494143024656,
          0.8203775117759822,
          0.8248503039544088
         ]
        },
        {
         "name": "Best Value",
         "type": "scatter",
         "x": [
          0,
          1,
          2,
          3,
          4,
          5,
          6,
          7,
          8,
          9,
          10,
          11,
          12,
          13,
          14,
          15,
          16,
          17,
          18,
          19,
          20,
          21,
          22,
          23,
          24,
          25,
          26,
          27,
          28,
          29,
          30,
          31,
          32,
          33,
          34,
          35,
          36,
          37,
          38,
          39,
          40,
          41,
          42,
          43,
          44,
          45,
          46,
          47,
          48,
          49,
          50,
          51,
          52,
          53,
          54,
          55,
          56,
          57,
          58,
          59,
          60,
          61,
          62,
          63,
          64,
          65,
          66,
          67,
          68,
          69,
          70,
          71,
          72,
          73,
          74,
          75,
          76,
          77,
          78,
          79,
          80,
          81,
          82,
          83,
          84,
          85,
          86,
          87,
          88,
          89,
          90,
          91,
          92,
          93,
          94,
          95,
          96,
          97,
          98,
          99
         ],
         "y": [
          0.832454646960656,
          0.832454646960656,
          0.832454646960656,
          0.8293233762751477,
          0.8293233762751477,
          0.8293233762751477,
          0.8293233762751477,
          0.8293233762751477,
          0.8244924821809481,
          0.8244924821809481,
          0.8244924821809481,
          0.8244924821809481,
          0.8244924821809481,
          0.8244924821809481,
          0.8203775117759822,
          0.8203775117759822,
          0.8203775117759822,
          0.8203775117759822,
          0.8203775117759822,
          0.8203775117759822,
          0.8203775117759822,
          0.8203775117759822,
          0.8203775117759822,
          0.8203775117759822,
          0.8203775117759822,
          0.8203775117759822,
          0.8203775117759822,
          0.8203775117759822,
          0.8203775117759822,
          0.8203775117759822,
          0.8203775117759822,
          0.8203775117759822,
          0.8203775117759822,
          0.8203775117759822,
          0.8203775117759822,
          0.8203775117759822,
          0.8203775117759822,
          0.8203775117759822,
          0.8203775117759822,
          0.8203775117759822,
          0.8203775117759822,
          0.8203775117759822,
          0.8203775117759822,
          0.8203775117759822,
          0.8203775117759822,
          0.8203775117759822,
          0.8203775117759822,
          0.8203775117759822,
          0.8203775117759822,
          0.8203775117759822,
          0.8203775117759822,
          0.8203775117759822,
          0.8203775117759822,
          0.8203775117759822,
          0.8203775117759822,
          0.8203775117759822,
          0.8203775117759822,
          0.8203775117759822,
          0.8203775117759822,
          0.8203775117759822,
          0.8203775117759822,
          0.8203775117759822,
          0.8203775117759822,
          0.8203775117759822,
          0.8203775117759822,
          0.8203775117759822,
          0.8203775117759822,
          0.8203775117759822,
          0.8203775117759822,
          0.8203775117759822,
          0.8203775117759822,
          0.8203775117759822,
          0.8203775117759822,
          0.8203775117759822,
          0.8203775117759822,
          0.8203775117759822,
          0.8203775117759822,
          0.8193039263946085,
          0.8193039263946085,
          0.8193039263946085,
          0.8193039263946085,
          0.8193039263946085,
          0.8193039263946085,
          0.8193039263946085,
          0.8193039263946085,
          0.8193039263946085,
          0.8193039263946085,
          0.8193039263946085,
          0.8193039263946085,
          0.8193039263946085,
          0.8193039263946085,
          0.8193039263946085,
          0.8193039263946085,
          0.8193039263946085,
          0.8193039263946085,
          0.8193039263946085,
          0.8193039263946085,
          0.8193039263946085,
          0.8193039263946085,
          0.8193039263946085
         ]
        }
       ],
       "layout": {
        "template": {
         "data": {
          "bar": [
           {
            "error_x": {
             "color": "#2a3f5f"
            },
            "error_y": {
             "color": "#2a3f5f"
            },
            "marker": {
             "line": {
              "color": "#E5ECF6",
              "width": 0.5
             }
            },
            "type": "bar"
           }
          ],
          "barpolar": [
           {
            "marker": {
             "line": {
              "color": "#E5ECF6",
              "width": 0.5
             }
            },
            "type": "barpolar"
           }
          ],
          "carpet": [
           {
            "aaxis": {
             "endlinecolor": "#2a3f5f",
             "gridcolor": "white",
             "linecolor": "white",
             "minorgridcolor": "white",
             "startlinecolor": "#2a3f5f"
            },
            "baxis": {
             "endlinecolor": "#2a3f5f",
             "gridcolor": "white",
             "linecolor": "white",
             "minorgridcolor": "white",
             "startlinecolor": "#2a3f5f"
            },
            "type": "carpet"
           }
          ],
          "choropleth": [
           {
            "colorbar": {
             "outlinewidth": 0,
             "ticks": ""
            },
            "type": "choropleth"
           }
          ],
          "contour": [
           {
            "colorbar": {
             "outlinewidth": 0,
             "ticks": ""
            },
            "colorscale": [
             [
              0,
              "#0d0887"
             ],
             [
              0.1111111111111111,
              "#46039f"
             ],
             [
              0.2222222222222222,
              "#7201a8"
             ],
             [
              0.3333333333333333,
              "#9c179e"
             ],
             [
              0.4444444444444444,
              "#bd3786"
             ],
             [
              0.5555555555555556,
              "#d8576b"
             ],
             [
              0.6666666666666666,
              "#ed7953"
             ],
             [
              0.7777777777777778,
              "#fb9f3a"
             ],
             [
              0.8888888888888888,
              "#fdca26"
             ],
             [
              1,
              "#f0f921"
             ]
            ],
            "type": "contour"
           }
          ],
          "contourcarpet": [
           {
            "colorbar": {
             "outlinewidth": 0,
             "ticks": ""
            },
            "type": "contourcarpet"
           }
          ],
          "heatmap": [
           {
            "colorbar": {
             "outlinewidth": 0,
             "ticks": ""
            },
            "colorscale": [
             [
              0,
              "#0d0887"
             ],
             [
              0.1111111111111111,
              "#46039f"
             ],
             [
              0.2222222222222222,
              "#7201a8"
             ],
             [
              0.3333333333333333,
              "#9c179e"
             ],
             [
              0.4444444444444444,
              "#bd3786"
             ],
             [
              0.5555555555555556,
              "#d8576b"
             ],
             [
              0.6666666666666666,
              "#ed7953"
             ],
             [
              0.7777777777777778,
              "#fb9f3a"
             ],
             [
              0.8888888888888888,
              "#fdca26"
             ],
             [
              1,
              "#f0f921"
             ]
            ],
            "type": "heatmap"
           }
          ],
          "heatmapgl": [
           {
            "colorbar": {
             "outlinewidth": 0,
             "ticks": ""
            },
            "colorscale": [
             [
              0,
              "#0d0887"
             ],
             [
              0.1111111111111111,
              "#46039f"
             ],
             [
              0.2222222222222222,
              "#7201a8"
             ],
             [
              0.3333333333333333,
              "#9c179e"
             ],
             [
              0.4444444444444444,
              "#bd3786"
             ],
             [
              0.5555555555555556,
              "#d8576b"
             ],
             [
              0.6666666666666666,
              "#ed7953"
             ],
             [
              0.7777777777777778,
              "#fb9f3a"
             ],
             [
              0.8888888888888888,
              "#fdca26"
             ],
             [
              1,
              "#f0f921"
             ]
            ],
            "type": "heatmapgl"
           }
          ],
          "histogram": [
           {
            "marker": {
             "colorbar": {
              "outlinewidth": 0,
              "ticks": ""
             }
            },
            "type": "histogram"
           }
          ],
          "histogram2d": [
           {
            "colorbar": {
             "outlinewidth": 0,
             "ticks": ""
            },
            "colorscale": [
             [
              0,
              "#0d0887"
             ],
             [
              0.1111111111111111,
              "#46039f"
             ],
             [
              0.2222222222222222,
              "#7201a8"
             ],
             [
              0.3333333333333333,
              "#9c179e"
             ],
             [
              0.4444444444444444,
              "#bd3786"
             ],
             [
              0.5555555555555556,
              "#d8576b"
             ],
             [
              0.6666666666666666,
              "#ed7953"
             ],
             [
              0.7777777777777778,
              "#fb9f3a"
             ],
             [
              0.8888888888888888,
              "#fdca26"
             ],
             [
              1,
              "#f0f921"
             ]
            ],
            "type": "histogram2d"
           }
          ],
          "histogram2dcontour": [
           {
            "colorbar": {
             "outlinewidth": 0,
             "ticks": ""
            },
            "colorscale": [
             [
              0,
              "#0d0887"
             ],
             [
              0.1111111111111111,
              "#46039f"
             ],
             [
              0.2222222222222222,
              "#7201a8"
             ],
             [
              0.3333333333333333,
              "#9c179e"
             ],
             [
              0.4444444444444444,
              "#bd3786"
             ],
             [
              0.5555555555555556,
              "#d8576b"
             ],
             [
              0.6666666666666666,
              "#ed7953"
             ],
             [
              0.7777777777777778,
              "#fb9f3a"
             ],
             [
              0.8888888888888888,
              "#fdca26"
             ],
             [
              1,
              "#f0f921"
             ]
            ],
            "type": "histogram2dcontour"
           }
          ],
          "mesh3d": [
           {
            "colorbar": {
             "outlinewidth": 0,
             "ticks": ""
            },
            "type": "mesh3d"
           }
          ],
          "parcoords": [
           {
            "line": {
             "colorbar": {
              "outlinewidth": 0,
              "ticks": ""
             }
            },
            "type": "parcoords"
           }
          ],
          "pie": [
           {
            "automargin": true,
            "type": "pie"
           }
          ],
          "scatter": [
           {
            "marker": {
             "colorbar": {
              "outlinewidth": 0,
              "ticks": ""
             }
            },
            "type": "scatter"
           }
          ],
          "scatter3d": [
           {
            "line": {
             "colorbar": {
              "outlinewidth": 0,
              "ticks": ""
             }
            },
            "marker": {
             "colorbar": {
              "outlinewidth": 0,
              "ticks": ""
             }
            },
            "type": "scatter3d"
           }
          ],
          "scattercarpet": [
           {
            "marker": {
             "colorbar": {
              "outlinewidth": 0,
              "ticks": ""
             }
            },
            "type": "scattercarpet"
           }
          ],
          "scattergeo": [
           {
            "marker": {
             "colorbar": {
              "outlinewidth": 0,
              "ticks": ""
             }
            },
            "type": "scattergeo"
           }
          ],
          "scattergl": [
           {
            "marker": {
             "colorbar": {
              "outlinewidth": 0,
              "ticks": ""
             }
            },
            "type": "scattergl"
           }
          ],
          "scattermapbox": [
           {
            "marker": {
             "colorbar": {
              "outlinewidth": 0,
              "ticks": ""
             }
            },
            "type": "scattermapbox"
           }
          ],
          "scatterpolar": [
           {
            "marker": {
             "colorbar": {
              "outlinewidth": 0,
              "ticks": ""
             }
            },
            "type": "scatterpolar"
           }
          ],
          "scatterpolargl": [
           {
            "marker": {
             "colorbar": {
              "outlinewidth": 0,
              "ticks": ""
             }
            },
            "type": "scatterpolargl"
           }
          ],
          "scatterternary": [
           {
            "marker": {
             "colorbar": {
              "outlinewidth": 0,
              "ticks": ""
             }
            },
            "type": "scatterternary"
           }
          ],
          "surface": [
           {
            "colorbar": {
             "outlinewidth": 0,
             "ticks": ""
            },
            "colorscale": [
             [
              0,
              "#0d0887"
             ],
             [
              0.1111111111111111,
              "#46039f"
             ],
             [
              0.2222222222222222,
              "#7201a8"
             ],
             [
              0.3333333333333333,
              "#9c179e"
             ],
             [
              0.4444444444444444,
              "#bd3786"
             ],
             [
              0.5555555555555556,
              "#d8576b"
             ],
             [
              0.6666666666666666,
              "#ed7953"
             ],
             [
              0.7777777777777778,
              "#fb9f3a"
             ],
             [
              0.8888888888888888,
              "#fdca26"
             ],
             [
              1,
              "#f0f921"
             ]
            ],
            "type": "surface"
           }
          ],
          "table": [
           {
            "cells": {
             "fill": {
              "color": "#EBF0F8"
             },
             "line": {
              "color": "white"
             }
            },
            "header": {
             "fill": {
              "color": "#C8D4E3"
             },
             "line": {
              "color": "white"
             }
            },
            "type": "table"
           }
          ]
         },
         "layout": {
          "annotationdefaults": {
           "arrowcolor": "#2a3f5f",
           "arrowhead": 0,
           "arrowwidth": 1
          },
          "coloraxis": {
           "colorbar": {
            "outlinewidth": 0,
            "ticks": ""
           }
          },
          "colorscale": {
           "diverging": [
            [
             0,
             "#8e0152"
            ],
            [
             0.1,
             "#c51b7d"
            ],
            [
             0.2,
             "#de77ae"
            ],
            [
             0.3,
             "#f1b6da"
            ],
            [
             0.4,
             "#fde0ef"
            ],
            [
             0.5,
             "#f7f7f7"
            ],
            [
             0.6,
             "#e6f5d0"
            ],
            [
             0.7,
             "#b8e186"
            ],
            [
             0.8,
             "#7fbc41"
            ],
            [
             0.9,
             "#4d9221"
            ],
            [
             1,
             "#276419"
            ]
           ],
           "sequential": [
            [
             0,
             "#0d0887"
            ],
            [
             0.1111111111111111,
             "#46039f"
            ],
            [
             0.2222222222222222,
             "#7201a8"
            ],
            [
             0.3333333333333333,
             "#9c179e"
            ],
            [
             0.4444444444444444,
             "#bd3786"
            ],
            [
             0.5555555555555556,
             "#d8576b"
            ],
            [
             0.6666666666666666,
             "#ed7953"
            ],
            [
             0.7777777777777778,
             "#fb9f3a"
            ],
            [
             0.8888888888888888,
             "#fdca26"
            ],
            [
             1,
             "#f0f921"
            ]
           ],
           "sequentialminus": [
            [
             0,
             "#0d0887"
            ],
            [
             0.1111111111111111,
             "#46039f"
            ],
            [
             0.2222222222222222,
             "#7201a8"
            ],
            [
             0.3333333333333333,
             "#9c179e"
            ],
            [
             0.4444444444444444,
             "#bd3786"
            ],
            [
             0.5555555555555556,
             "#d8576b"
            ],
            [
             0.6666666666666666,
             "#ed7953"
            ],
            [
             0.7777777777777778,
             "#fb9f3a"
            ],
            [
             0.8888888888888888,
             "#fdca26"
            ],
            [
             1,
             "#f0f921"
            ]
           ]
          },
          "colorway": [
           "#636efa",
           "#EF553B",
           "#00cc96",
           "#ab63fa",
           "#FFA15A",
           "#19d3f3",
           "#FF6692",
           "#B6E880",
           "#FF97FF",
           "#FECB52"
          ],
          "font": {
           "color": "#2a3f5f"
          },
          "geo": {
           "bgcolor": "white",
           "lakecolor": "white",
           "landcolor": "#E5ECF6",
           "showlakes": true,
           "showland": true,
           "subunitcolor": "white"
          },
          "hoverlabel": {
           "align": "left"
          },
          "hovermode": "closest",
          "mapbox": {
           "style": "light"
          },
          "paper_bgcolor": "white",
          "plot_bgcolor": "#E5ECF6",
          "polar": {
           "angularaxis": {
            "gridcolor": "white",
            "linecolor": "white",
            "ticks": ""
           },
           "bgcolor": "#E5ECF6",
           "radialaxis": {
            "gridcolor": "white",
            "linecolor": "white",
            "ticks": ""
           }
          },
          "scene": {
           "xaxis": {
            "backgroundcolor": "#E5ECF6",
            "gridcolor": "white",
            "gridwidth": 2,
            "linecolor": "white",
            "showbackground": true,
            "ticks": "",
            "zerolinecolor": "white"
           },
           "yaxis": {
            "backgroundcolor": "#E5ECF6",
            "gridcolor": "white",
            "gridwidth": 2,
            "linecolor": "white",
            "showbackground": true,
            "ticks": "",
            "zerolinecolor": "white"
           },
           "zaxis": {
            "backgroundcolor": "#E5ECF6",
            "gridcolor": "white",
            "gridwidth": 2,
            "linecolor": "white",
            "showbackground": true,
            "ticks": "",
            "zerolinecolor": "white"
           }
          },
          "shapedefaults": {
           "line": {
            "color": "#2a3f5f"
           }
          },
          "ternary": {
           "aaxis": {
            "gridcolor": "white",
            "linecolor": "white",
            "ticks": ""
           },
           "baxis": {
            "gridcolor": "white",
            "linecolor": "white",
            "ticks": ""
           },
           "bgcolor": "#E5ECF6",
           "caxis": {
            "gridcolor": "white",
            "linecolor": "white",
            "ticks": ""
           }
          },
          "title": {
           "x": 0.05
          },
          "xaxis": {
           "automargin": true,
           "gridcolor": "white",
           "linecolor": "white",
           "ticks": "",
           "title": {
            "standoff": 15
           },
           "zerolinecolor": "white",
           "zerolinewidth": 2
          },
          "yaxis": {
           "automargin": true,
           "gridcolor": "white",
           "linecolor": "white",
           "ticks": "",
           "title": {
            "standoff": 15
           },
           "zerolinecolor": "white",
           "zerolinewidth": 2
          }
         }
        },
        "title": {
         "text": "Optimization History Plot"
        },
        "xaxis": {
         "title": {
          "text": "#Trials"
         }
        },
        "yaxis": {
         "title": {
          "text": "Objective Value"
         }
        }
       }
      },
      "text/html": [
       "<div>                            <div id=\"10fb2734-d210-4abf-9ae6-48ee973194da\" class=\"plotly-graph-div\" style=\"height:525px; width:100%;\"></div>            <script type=\"text/javascript\">                require([\"plotly\"], function(Plotly) {                    window.PLOTLYENV=window.PLOTLYENV || {};                                    if (document.getElementById(\"10fb2734-d210-4abf-9ae6-48ee973194da\")) {                    Plotly.newPlot(                        \"10fb2734-d210-4abf-9ae6-48ee973194da\",                        [{\"mode\": \"markers\", \"name\": \"Objective Value\", \"type\": \"scatter\", \"x\": [0, 1, 2, 3, 4, 5, 6, 7, 8, 9, 10, 11, 12, 13, 14, 15, 16, 17, 18, 19, 20, 21, 22, 23, 24, 25, 26, 27, 28, 29, 30, 31, 32, 33, 34, 35, 36, 37, 38, 39, 40, 41, 42, 43, 44, 45, 46, 47, 48, 49, 50, 51, 52, 53, 54, 55, 56, 57, 58, 59, 60, 61, 62, 63, 64, 65, 66, 67, 68, 69, 70, 71, 72, 73, 74, 75, 76, 77, 78, 79, 80, 81, 82, 83, 84, 85, 86, 87, 88, 89, 90, 91, 92, 93, 94, 95, 96, 97, 98, 99], \"y\": [0.832454646960656, 0.8338859340544996, 0.8338859340544996, 0.8293233762751477, 0.8332594157832179, 0.834154430450669, 0.833796488616217, 0.8324544068386739, 0.8244924821809481, 0.832812468734117, 0.8269966743105497, 0.8263706763035621, 0.8263704762019106, 0.8266393327810528, 0.8203775117759822, 0.8263709564458745, 0.8203775117759822, 0.8203775117759822, 0.8203775117759822, 0.8208248990487167, 0.8203775117759822, 0.8203775117759822, 0.8203775117759822, 0.8203775117759822, 0.8204670372549255, 0.8203775117759822, 0.8203775117759822, 0.8203775117759822, 0.8231508806473687, 0.8244029166816743, 0.8209144645479904, 0.8203775117759822, 0.8203775117759822, 0.8203775117759822, 0.8203775117759822, 0.8203775117759822, 0.834154430450669, 0.8203775117759822, 0.8203775117759822, 0.8344226066841955, 0.8335283123826904, 0.8203775117759822, 0.8203775117759822, 0.8203775117759822, 0.8203775117759822, 0.8288760690430739, 0.8203775117759822, 0.8203775117759822, 0.825655232858292, 0.8334387869037473, 0.8203775117759822, 0.8203775117759822, 0.822613967895691, 0.8203775117759822, 0.8203775117759822, 0.8203775117759822, 0.8346910630600345, 0.8271757652887667, 0.8204669572142649, 0.8203775117759822, 0.8203775117759822, 0.8203775117759822, 0.8203775117759822, 0.8203775117759822, 0.8203775117759822, 0.8203775117759822, 0.8203775117759822, 0.8203775117759822, 0.8203775117759822, 0.8203775117759822, 0.8336172775770091, 0.8203775117759822, 0.8234191369215562, 0.8203775117759822, 0.8203775117759822, 0.8203775117759822, 0.8279808542739712, 0.8193039263946085, 0.8218083186258619, 0.8281605055368126, 0.8292338507962045, 0.8203775117759822, 0.8216298679729303, 0.8237767986136957, 0.8203775117759822, 0.8279808542739712, 0.8203775117759822, 0.8324544068386739, 0.8203775117759822, 0.8203775117759822, 0.8203775117759822, 0.8203775117759822, 0.8270865599724659, 0.8284282415467057, 0.8203775117759822, 0.8203775117759822, 0.8203775117759822, 0.8299494143024656, 0.8203775117759822, 0.8248503039544088]}, {\"name\": \"Best Value\", \"type\": \"scatter\", \"x\": [0, 1, 2, 3, 4, 5, 6, 7, 8, 9, 10, 11, 12, 13, 14, 15, 16, 17, 18, 19, 20, 21, 22, 23, 24, 25, 26, 27, 28, 29, 30, 31, 32, 33, 34, 35, 36, 37, 38, 39, 40, 41, 42, 43, 44, 45, 46, 47, 48, 49, 50, 51, 52, 53, 54, 55, 56, 57, 58, 59, 60, 61, 62, 63, 64, 65, 66, 67, 68, 69, 70, 71, 72, 73, 74, 75, 76, 77, 78, 79, 80, 81, 82, 83, 84, 85, 86, 87, 88, 89, 90, 91, 92, 93, 94, 95, 96, 97, 98, 99], \"y\": [0.832454646960656, 0.832454646960656, 0.832454646960656, 0.8293233762751477, 0.8293233762751477, 0.8293233762751477, 0.8293233762751477, 0.8293233762751477, 0.8244924821809481, 0.8244924821809481, 0.8244924821809481, 0.8244924821809481, 0.8244924821809481, 0.8244924821809481, 0.8203775117759822, 0.8203775117759822, 0.8203775117759822, 0.8203775117759822, 0.8203775117759822, 0.8203775117759822, 0.8203775117759822, 0.8203775117759822, 0.8203775117759822, 0.8203775117759822, 0.8203775117759822, 0.8203775117759822, 0.8203775117759822, 0.8203775117759822, 0.8203775117759822, 0.8203775117759822, 0.8203775117759822, 0.8203775117759822, 0.8203775117759822, 0.8203775117759822, 0.8203775117759822, 0.8203775117759822, 0.8203775117759822, 0.8203775117759822, 0.8203775117759822, 0.8203775117759822, 0.8203775117759822, 0.8203775117759822, 0.8203775117759822, 0.8203775117759822, 0.8203775117759822, 0.8203775117759822, 0.8203775117759822, 0.8203775117759822, 0.8203775117759822, 0.8203775117759822, 0.8203775117759822, 0.8203775117759822, 0.8203775117759822, 0.8203775117759822, 0.8203775117759822, 0.8203775117759822, 0.8203775117759822, 0.8203775117759822, 0.8203775117759822, 0.8203775117759822, 0.8203775117759822, 0.8203775117759822, 0.8203775117759822, 0.8203775117759822, 0.8203775117759822, 0.8203775117759822, 0.8203775117759822, 0.8203775117759822, 0.8203775117759822, 0.8203775117759822, 0.8203775117759822, 0.8203775117759822, 0.8203775117759822, 0.8203775117759822, 0.8203775117759822, 0.8203775117759822, 0.8203775117759822, 0.8193039263946085, 0.8193039263946085, 0.8193039263946085, 0.8193039263946085, 0.8193039263946085, 0.8193039263946085, 0.8193039263946085, 0.8193039263946085, 0.8193039263946085, 0.8193039263946085, 0.8193039263946085, 0.8193039263946085, 0.8193039263946085, 0.8193039263946085, 0.8193039263946085, 0.8193039263946085, 0.8193039263946085, 0.8193039263946085, 0.8193039263946085, 0.8193039263946085, 0.8193039263946085, 0.8193039263946085, 0.8193039263946085]}],                        {\"template\": {\"data\": {\"bar\": [{\"error_x\": {\"color\": \"#2a3f5f\"}, \"error_y\": {\"color\": \"#2a3f5f\"}, \"marker\": {\"line\": {\"color\": \"#E5ECF6\", \"width\": 0.5}}, \"type\": \"bar\"}], \"barpolar\": [{\"marker\": {\"line\": {\"color\": \"#E5ECF6\", \"width\": 0.5}}, \"type\": \"barpolar\"}], \"carpet\": [{\"aaxis\": {\"endlinecolor\": \"#2a3f5f\", \"gridcolor\": \"white\", \"linecolor\": \"white\", \"minorgridcolor\": \"white\", \"startlinecolor\": \"#2a3f5f\"}, \"baxis\": {\"endlinecolor\": \"#2a3f5f\", \"gridcolor\": \"white\", \"linecolor\": \"white\", \"minorgridcolor\": \"white\", \"startlinecolor\": \"#2a3f5f\"}, \"type\": \"carpet\"}], \"choropleth\": [{\"colorbar\": {\"outlinewidth\": 0, \"ticks\": \"\"}, \"type\": \"choropleth\"}], \"contour\": [{\"colorbar\": {\"outlinewidth\": 0, \"ticks\": \"\"}, \"colorscale\": [[0.0, \"#0d0887\"], [0.1111111111111111, \"#46039f\"], [0.2222222222222222, \"#7201a8\"], [0.3333333333333333, \"#9c179e\"], [0.4444444444444444, \"#bd3786\"], [0.5555555555555556, \"#d8576b\"], [0.6666666666666666, \"#ed7953\"], [0.7777777777777778, \"#fb9f3a\"], [0.8888888888888888, \"#fdca26\"], [1.0, \"#f0f921\"]], \"type\": \"contour\"}], \"contourcarpet\": [{\"colorbar\": {\"outlinewidth\": 0, \"ticks\": \"\"}, \"type\": \"contourcarpet\"}], \"heatmap\": [{\"colorbar\": {\"outlinewidth\": 0, \"ticks\": \"\"}, \"colorscale\": [[0.0, \"#0d0887\"], [0.1111111111111111, \"#46039f\"], [0.2222222222222222, \"#7201a8\"], [0.3333333333333333, \"#9c179e\"], [0.4444444444444444, \"#bd3786\"], [0.5555555555555556, \"#d8576b\"], [0.6666666666666666, \"#ed7953\"], [0.7777777777777778, \"#fb9f3a\"], [0.8888888888888888, \"#fdca26\"], [1.0, \"#f0f921\"]], \"type\": \"heatmap\"}], \"heatmapgl\": [{\"colorbar\": {\"outlinewidth\": 0, \"ticks\": \"\"}, \"colorscale\": [[0.0, \"#0d0887\"], [0.1111111111111111, \"#46039f\"], [0.2222222222222222, \"#7201a8\"], [0.3333333333333333, \"#9c179e\"], [0.4444444444444444, \"#bd3786\"], [0.5555555555555556, \"#d8576b\"], [0.6666666666666666, \"#ed7953\"], [0.7777777777777778, \"#fb9f3a\"], [0.8888888888888888, \"#fdca26\"], [1.0, \"#f0f921\"]], \"type\": \"heatmapgl\"}], \"histogram\": [{\"marker\": {\"colorbar\": {\"outlinewidth\": 0, \"ticks\": \"\"}}, \"type\": \"histogram\"}], \"histogram2d\": [{\"colorbar\": {\"outlinewidth\": 0, \"ticks\": \"\"}, \"colorscale\": [[0.0, \"#0d0887\"], [0.1111111111111111, \"#46039f\"], [0.2222222222222222, \"#7201a8\"], [0.3333333333333333, \"#9c179e\"], [0.4444444444444444, \"#bd3786\"], [0.5555555555555556, \"#d8576b\"], [0.6666666666666666, \"#ed7953\"], [0.7777777777777778, \"#fb9f3a\"], [0.8888888888888888, \"#fdca26\"], [1.0, \"#f0f921\"]], \"type\": \"histogram2d\"}], \"histogram2dcontour\": [{\"colorbar\": {\"outlinewidth\": 0, \"ticks\": \"\"}, \"colorscale\": [[0.0, \"#0d0887\"], [0.1111111111111111, \"#46039f\"], [0.2222222222222222, \"#7201a8\"], [0.3333333333333333, \"#9c179e\"], [0.4444444444444444, \"#bd3786\"], [0.5555555555555556, \"#d8576b\"], [0.6666666666666666, \"#ed7953\"], [0.7777777777777778, \"#fb9f3a\"], [0.8888888888888888, \"#fdca26\"], [1.0, \"#f0f921\"]], \"type\": \"histogram2dcontour\"}], \"mesh3d\": [{\"colorbar\": {\"outlinewidth\": 0, \"ticks\": \"\"}, \"type\": \"mesh3d\"}], \"parcoords\": [{\"line\": {\"colorbar\": {\"outlinewidth\": 0, \"ticks\": \"\"}}, \"type\": \"parcoords\"}], \"pie\": [{\"automargin\": true, \"type\": \"pie\"}], \"scatter\": [{\"marker\": {\"colorbar\": {\"outlinewidth\": 0, \"ticks\": \"\"}}, \"type\": \"scatter\"}], \"scatter3d\": [{\"line\": {\"colorbar\": {\"outlinewidth\": 0, \"ticks\": \"\"}}, \"marker\": {\"colorbar\": {\"outlinewidth\": 0, \"ticks\": \"\"}}, \"type\": \"scatter3d\"}], \"scattercarpet\": [{\"marker\": {\"colorbar\": {\"outlinewidth\": 0, \"ticks\": \"\"}}, \"type\": \"scattercarpet\"}], \"scattergeo\": [{\"marker\": {\"colorbar\": {\"outlinewidth\": 0, \"ticks\": \"\"}}, \"type\": \"scattergeo\"}], \"scattergl\": [{\"marker\": {\"colorbar\": {\"outlinewidth\": 0, \"ticks\": \"\"}}, \"type\": \"scattergl\"}], \"scattermapbox\": [{\"marker\": {\"colorbar\": {\"outlinewidth\": 0, \"ticks\": \"\"}}, \"type\": \"scattermapbox\"}], \"scatterpolar\": [{\"marker\": {\"colorbar\": {\"outlinewidth\": 0, \"ticks\": \"\"}}, \"type\": \"scatterpolar\"}], \"scatterpolargl\": [{\"marker\": {\"colorbar\": {\"outlinewidth\": 0, \"ticks\": \"\"}}, \"type\": \"scatterpolargl\"}], \"scatterternary\": [{\"marker\": {\"colorbar\": {\"outlinewidth\": 0, \"ticks\": \"\"}}, \"type\": \"scatterternary\"}], \"surface\": [{\"colorbar\": {\"outlinewidth\": 0, \"ticks\": \"\"}, \"colorscale\": [[0.0, \"#0d0887\"], [0.1111111111111111, \"#46039f\"], [0.2222222222222222, \"#7201a8\"], [0.3333333333333333, \"#9c179e\"], [0.4444444444444444, \"#bd3786\"], [0.5555555555555556, \"#d8576b\"], [0.6666666666666666, \"#ed7953\"], [0.7777777777777778, \"#fb9f3a\"], [0.8888888888888888, \"#fdca26\"], [1.0, \"#f0f921\"]], \"type\": \"surface\"}], \"table\": [{\"cells\": {\"fill\": {\"color\": \"#EBF0F8\"}, \"line\": {\"color\": \"white\"}}, \"header\": {\"fill\": {\"color\": \"#C8D4E3\"}, \"line\": {\"color\": \"white\"}}, \"type\": \"table\"}]}, \"layout\": {\"annotationdefaults\": {\"arrowcolor\": \"#2a3f5f\", \"arrowhead\": 0, \"arrowwidth\": 1}, \"coloraxis\": {\"colorbar\": {\"outlinewidth\": 0, \"ticks\": \"\"}}, \"colorscale\": {\"diverging\": [[0, \"#8e0152\"], [0.1, \"#c51b7d\"], [0.2, \"#de77ae\"], [0.3, \"#f1b6da\"], [0.4, \"#fde0ef\"], [0.5, \"#f7f7f7\"], [0.6, \"#e6f5d0\"], [0.7, \"#b8e186\"], [0.8, \"#7fbc41\"], [0.9, \"#4d9221\"], [1, \"#276419\"]], \"sequential\": [[0.0, \"#0d0887\"], [0.1111111111111111, \"#46039f\"], [0.2222222222222222, \"#7201a8\"], [0.3333333333333333, \"#9c179e\"], [0.4444444444444444, \"#bd3786\"], [0.5555555555555556, \"#d8576b\"], [0.6666666666666666, \"#ed7953\"], [0.7777777777777778, \"#fb9f3a\"], [0.8888888888888888, \"#fdca26\"], [1.0, \"#f0f921\"]], \"sequentialminus\": [[0.0, \"#0d0887\"], [0.1111111111111111, \"#46039f\"], [0.2222222222222222, \"#7201a8\"], [0.3333333333333333, \"#9c179e\"], [0.4444444444444444, \"#bd3786\"], [0.5555555555555556, \"#d8576b\"], [0.6666666666666666, \"#ed7953\"], [0.7777777777777778, \"#fb9f3a\"], [0.8888888888888888, \"#fdca26\"], [1.0, \"#f0f921\"]]}, \"colorway\": [\"#636efa\", \"#EF553B\", \"#00cc96\", \"#ab63fa\", \"#FFA15A\", \"#19d3f3\", \"#FF6692\", \"#B6E880\", \"#FF97FF\", \"#FECB52\"], \"font\": {\"color\": \"#2a3f5f\"}, \"geo\": {\"bgcolor\": \"white\", \"lakecolor\": \"white\", \"landcolor\": \"#E5ECF6\", \"showlakes\": true, \"showland\": true, \"subunitcolor\": \"white\"}, \"hoverlabel\": {\"align\": \"left\"}, \"hovermode\": \"closest\", \"mapbox\": {\"style\": \"light\"}, \"paper_bgcolor\": \"white\", \"plot_bgcolor\": \"#E5ECF6\", \"polar\": {\"angularaxis\": {\"gridcolor\": \"white\", \"linecolor\": \"white\", \"ticks\": \"\"}, \"bgcolor\": \"#E5ECF6\", \"radialaxis\": {\"gridcolor\": \"white\", \"linecolor\": \"white\", \"ticks\": \"\"}}, \"scene\": {\"xaxis\": {\"backgroundcolor\": \"#E5ECF6\", \"gridcolor\": \"white\", \"gridwidth\": 2, \"linecolor\": \"white\", \"showbackground\": true, \"ticks\": \"\", \"zerolinecolor\": \"white\"}, \"yaxis\": {\"backgroundcolor\": \"#E5ECF6\", \"gridcolor\": \"white\", \"gridwidth\": 2, \"linecolor\": \"white\", \"showbackground\": true, \"ticks\": \"\", \"zerolinecolor\": \"white\"}, \"zaxis\": {\"backgroundcolor\": \"#E5ECF6\", \"gridcolor\": \"white\", \"gridwidth\": 2, \"linecolor\": \"white\", \"showbackground\": true, \"ticks\": \"\", \"zerolinecolor\": \"white\"}}, \"shapedefaults\": {\"line\": {\"color\": \"#2a3f5f\"}}, \"ternary\": {\"aaxis\": {\"gridcolor\": \"white\", \"linecolor\": \"white\", \"ticks\": \"\"}, \"baxis\": {\"gridcolor\": \"white\", \"linecolor\": \"white\", \"ticks\": \"\"}, \"bgcolor\": \"#E5ECF6\", \"caxis\": {\"gridcolor\": \"white\", \"linecolor\": \"white\", \"ticks\": \"\"}}, \"title\": {\"x\": 0.05}, \"xaxis\": {\"automargin\": true, \"gridcolor\": \"white\", \"linecolor\": \"white\", \"ticks\": \"\", \"title\": {\"standoff\": 15}, \"zerolinecolor\": \"white\", \"zerolinewidth\": 2}, \"yaxis\": {\"automargin\": true, \"gridcolor\": \"white\", \"linecolor\": \"white\", \"ticks\": \"\", \"title\": {\"standoff\": 15}, \"zerolinecolor\": \"white\", \"zerolinewidth\": 2}}}, \"title\": {\"text\": \"Optimization History Plot\"}, \"xaxis\": {\"title\": {\"text\": \"#Trials\"}}, \"yaxis\": {\"title\": {\"text\": \"Objective Value\"}}},                        {\"responsive\": true}                    ).then(function(){\n",
       "                            \n",
       "var gd = document.getElementById('10fb2734-d210-4abf-9ae6-48ee973194da');\n",
       "var x = new MutationObserver(function (mutations, observer) {{\n",
       "        var display = window.getComputedStyle(gd).display;\n",
       "        if (!display || display === 'none') {{\n",
       "            console.log([gd, 'removed!']);\n",
       "            Plotly.purge(gd);\n",
       "            observer.disconnect();\n",
       "        }}\n",
       "}});\n",
       "\n",
       "// Listen for the removal of the full notebook cells\n",
       "var notebookContainer = gd.closest('#notebook-container');\n",
       "if (notebookContainer) {{\n",
       "    x.observe(notebookContainer, {childList: true});\n",
       "}}\n",
       "\n",
       "// Listen for the clearing of the current output cell\n",
       "var outputEl = gd.closest('.output');\n",
       "if (outputEl) {{\n",
       "    x.observe(outputEl, {childList: true});\n",
       "}}\n",
       "\n",
       "                        })                };                });            </script>        </div>"
      ]
     },
     "metadata": {},
     "output_type": "display_data"
    }
   ],
   "source": [
    "visualization.plot_optimization_history(study)"
   ]
  },
  {
   "cell_type": "markdown",
   "metadata": {},
   "source": [
    "The plot above showcases the AUC score (y-axis) over the number of trials performed (x-axis). Through the 100 trials performed during hyperparameter tuning, it was observed that at trial 5, we received our highest AUC score of 0.834. From Optuna, we are able to pull the best params and perform final modeling. "
   ]
  },
  {
   "cell_type": "markdown",
   "metadata": {},
   "source": [
    "# Final Model with XGBoost Best Params"
   ]
  },
  {
   "cell_type": "markdown",
   "metadata": {},
   "source": [
    "## Set up Train Sample"
   ]
  },
  {
   "cell_type": "code",
   "execution_count": 77,
   "metadata": {
    "ExecuteTime": {
     "end_time": "2021-07-16T03:25:46.506881Z",
     "start_time": "2021-07-16T03:25:46.033465Z"
    }
   },
   "outputs": [
    {
     "name": "stdout",
     "output_type": "stream",
     "text": [
      "[20:25:46] WARNING: C:/Users/Administrator/workspace/xgboost-win64_release_1.4.0/src/learner.cc:573: \n",
      "Parameters: { \"params\" } might not be used.\n",
      "\n",
      "  This may not be accurate due to some parameters are only used in language bindings but\n",
      "  passed down to XGBoost core.  Or some parameters are not used but slip through this\n",
      "  verification. Please open an issue if you find above cases.\n",
      "\n",
      "\n",
      "[20:25:46] WARNING: C:/Users/Administrator/workspace/xgboost-win64_release_1.4.0/src/learner.cc:1095: Starting in XGBoost 1.3.0, the default evaluation metric used with the objective 'binary:logistic' was changed from 'error' to 'logloss'. Explicitly set eval_metric if you'd like to restore the old behavior.\n"
     ]
    },
    {
     "data": {
      "text/plain": [
       "Pipeline(steps=[('t',\n",
       "                 ColumnTransformer(transformers=[('log_transform',\n",
       "                                                  FunctionTransformer(func=<ufunc 'log1p'>,\n",
       "                                                                      validate=True),\n",
       "                                                  [10]),\n",
       "                                                 ('pwr_transform',\n",
       "                                                  PowerTransformer(), [1]),\n",
       "                                                 ('nominal',\n",
       "                                                  OneHotEncoder(handle_unknown='ignore'),\n",
       "                                                  [0, 2, 3, 5, 8]),\n",
       "                                                 ('edu_ord',\n",
       "                                                  OrdinalEncoder(categories=[['missing',\n",
       "                                                                              'Primary '\n",
       "                                                                              'School',\n",
       "                                                                              'High '\n",
       "                                                                              'School',\n",
       "                                                                              'Graduate',\n",
       "                                                                              'Masters',\n",
       "                                                                              'Phd']]),\n",
       "                                                  [4]...\n",
       "                               learning_rate=0.300000012, max_delta_step=0,\n",
       "                               max_depth=6, min_child_weight=1, missing=nan,\n",
       "                               monotone_constraints='()', n_estimators=100,\n",
       "                               n_jobs=8, num_parallel_tree=1,\n",
       "                               params={'alpha': 0.10383266486970251,\n",
       "                                       'booster': 'gbtree',\n",
       "                                       'grow_policy': 'depthwise',\n",
       "                                       'max_depth': 2},\n",
       "                               random_state=0, reg_alpha=0, reg_lambda=1,\n",
       "                               scale_pos_weight=1, subsample=1,\n",
       "                               tree_method='exact', validate_parameters=1,\n",
       "                               verbosity=None))])"
      ]
     },
     "execution_count": 77,
     "metadata": {},
     "output_type": "execute_result"
    }
   ],
   "source": [
    "# Set up training\n",
    "y = df_drop.target\n",
    "X = df_drop.drop('target',axis=1)\n",
    "\n",
    "# Encode target\n",
    "label_encoder = LabelEncoder()\n",
    "y = label_encoder.fit_transform(y)\n",
    "\n",
    "# Train test split\n",
    "# Use stratify parameter to preserve the target label proportions found in the original dataset \n",
    "X_train, X_test, y_train, y_test = train_test_split(X, y, test_size=0.25, stratify=y)\n",
    "\n",
    "# Set Transformers\n",
    "t_train = [\n",
    "    (\"log_transform\", FunctionTransformer(np.log1p, validate=True), [get_column_index(X, 'training_hours')]),\n",
    "    (\"pwr_transform\", PowerTransformer(method='yeo-johnson', standardize=True), [get_column_index(X, 'city_development_index')]),\n",
    "    (\"nominal\", OneHotEncoder(handle_unknown='ignore'), [get_column_index(X, x) for x in nominal]),\n",
    "    (\"edu_ord\", OrdinalEncoder(categories=edu_level_ord),[get_column_index(X, 'education_level') ]),\n",
    "    (\"exp_ord\", OrdinalEncoder(categories=experience_ord), [get_column_index(X, 'experience') ]),\n",
    "    (\"comp_size_ord\", OrdinalEncoder(categories=company_size_ord), [get_column_index(X, 'company_size') ]),\n",
    "    (\"new_job_ord\", OrdinalEncoder(categories=last_new_job_ord), [get_column_index(X, 'last_new_job') ]),\n",
    "    ]\n",
    "\n",
    "# Transform features\n",
    "ct_train = ColumnTransformer(transformers=t_train)\n",
    "\n",
    "# define pipeline\n",
    "pipeline = Pipeline(steps=[('t', ct_train), ('m', xgb_clf_fin)])\n",
    "\n",
    "# fit the pipeline on the transformed data\n",
    "pipeline.fit(X_train, y_train)"
   ]
  },
  {
   "cell_type": "markdown",
   "metadata": {},
   "source": [
    "## Predict on Test"
   ]
  },
  {
   "cell_type": "code",
   "execution_count": 78,
   "metadata": {
    "ExecuteTime": {
     "end_time": "2021-07-16T03:25:46.538769Z",
     "start_time": "2021-07-16T03:25:46.508870Z"
    }
   },
   "outputs": [],
   "source": [
    "preds = pipeline.predict(X_test)"
   ]
  },
  {
   "cell_type": "code",
   "execution_count": 79,
   "metadata": {
    "ExecuteTime": {
     "end_time": "2021-07-16T03:25:46.554717Z",
     "start_time": "2021-07-16T03:25:46.540764Z"
    }
   },
   "outputs": [
    {
     "name": "stdout",
     "output_type": "stream",
     "text": [
      "              precision    recall  f1-score   support\n",
      "\n",
      "           0       0.88      0.93      0.90      2293\n",
      "           1       0.56      0.39      0.46       502\n",
      "\n",
      "    accuracy                           0.84      2795\n",
      "   macro avg       0.72      0.66      0.68      2795\n",
      "weighted avg       0.82      0.84      0.82      2795\n",
      "\n"
     ]
    }
   ],
   "source": [
    "# Check classification metrics\n",
    "print(classification_report(y_test, preds))"
   ]
  },
  {
   "cell_type": "markdown",
   "metadata": {},
   "source": [
    "## Plot ROC AUC Curve - XGB with Hyperparameter Tuning"
   ]
  },
  {
   "cell_type": "code",
   "execution_count": 80,
   "metadata": {
    "ExecuteTime": {
     "end_time": "2021-07-16T03:25:47.188599Z",
     "start_time": "2021-07-16T03:25:46.556710Z"
    },
    "scrolled": false
   },
   "outputs": [
    {
     "name": "stdout",
     "output_type": "stream",
     "text": [
      "No Skill: ROC AUC=0.500\n",
      "Logistic: ROC AUC=0.663\n"
     ]
    },
    {
     "data": {
      "image/png": "[encoded data removed]",
      "text/plain": [
       "<Figure size 720x576 with 1 Axes>"
      ]
     },
     "metadata": {
      "needs_background": "light"
     },
     "output_type": "display_data"
    }
   ],
   "source": [
    "fig, ax = plt.subplots(figsize=(10,8))\n",
    "\n",
    "# generate a no skill prediction (majority class)\n",
    "ns_probs = [0 for _ in range(len(y_test))]\n",
    "\n",
    "# calculate scores\n",
    "ns_auc = roc_auc_score(y_test, ns_probs)\n",
    "xgb_auc = roc_auc_score(y_test, preds)\n",
    "# summarize scores\n",
    "print('No Skill: ROC AUC=%.3f' % (ns_auc))\n",
    "print('Logistic: ROC AUC=%.3f' % (xgb_auc))\n",
    "# calculate roc curves\n",
    "ns_fpr, ns_tpr, _ = roc_curve(y_test, ns_probs)\n",
    "xgb_fpr, xgb_tpr, _ = roc_curve(y_test, preds)\n",
    "# plot the roc curve for the model\n",
    "plt.plot(ns_fpr, ns_tpr, linestyle='--', label='No Skill')\n",
    "plt.plot(xgb_fpr, xgb_tpr, marker='.', label='Logistic')\n",
    "# axis labels\n",
    "plt.xlabel('False Positive Rate')\n",
    "plt.ylabel('True Positive Rate')\n",
    "\n",
    "plt.title(\"Receiver operating characteristic (ROC) Curve - XGBoost Hyperparameter Tuning\")\n",
    "\n",
    "# show the legend\n",
    "plt.legend()\n",
    "\n",
    "# Save fig\n",
    "plt.savefig('XGBFinal_ROCCurve_drop.jpg',dpi=300, bbox_inches = 'tight');"
   ]
  },
  {
   "cell_type": "markdown",
   "metadata": {},
   "source": [
    "The tuned XGboost model performs much better than our tuned LR model (0.678 compared to 0.558). Therefore for future iterations of the model, we may wish to continue with XGBoost.\n",
    "\n",
    "However, it is still worth noting that the model performance on predicting whether a person will leave the company (class 1) is poor with an f1-score of 0.49 compared to class 0's f1-score of 0.9. In order to improve this outcome, we will need more instances of class 1 to train against, and hence better understand the factor that lead a person to leave their job after data science training. "
   ]
  },
  {
   "cell_type": "markdown",
   "metadata": {},
   "source": [
    "# Characteristics of People Looking for a new Job"
   ]
  },
  {
   "cell_type": "markdown",
   "metadata": {},
   "source": [
    "## City Development Index Comparison"
   ]
  },
  {
   "cell_type": "code",
   "execution_count": 81,
   "metadata": {
    "ExecuteTime": {
     "end_time": "2021-07-16T03:25:47.854372Z",
     "start_time": "2021-07-16T03:25:47.190590Z"
    }
   },
   "outputs": [
    {
     "data": {
      "image/png": "[encoded data removed]",
      "text/plain": [
       "<Figure size 720x576 with 1 Axes>"
      ]
     },
     "metadata": {
      "needs_background": "light"
     },
     "output_type": "display_data"
    }
   ],
   "source": [
    "fig, ax = plt.subplots(figsize=(10,8))\n",
    "\n",
    "# Iterate through target label\n",
    "for t in df_drop.target.unique():\n",
    "    # Create temp dataframe for the genre being iterated on\n",
    "    frame = df_drop[df_drop.target==t]\n",
    "    \n",
    "    # Create list of sample_means of size 100 to plot distributions of averagerating.\n",
    "    # Set up city dev index comparison\n",
    "    sample_means = [np.random.choice(frame.city_development_index, replace=True, size=len(frame)).mean() for x in range(100)]\n",
    "    plt.hist(sample_means, label=t,alpha=0.6)\n",
    "    \n",
    "plt.legend()\n",
    "plt.ylabel('Count',fontsize=16)\n",
    "plt.xlabel('City Development Index ',fontsize=16)\n",
    "plt.title('City Development Index Target Comparison',fontsize=16)\n",
    "\n",
    "# Format and save fig\n",
    "plt.savefig('CityDevelopmentComparison.jpg',dpi=300, bbox_inches = 'tight')"
   ]
  },
  {
   "cell_type": "markdown",
   "metadata": {},
   "source": [
    "In the visual above, I bootstrapped the target variables to generate a distribution over each targets' city development index to provide a comparison of how city development index plays as a factor for whether a person looks for a new job or not after completing data science training. We can observe that people who are not look for a job typically live in better developed cities compared to people in looking for jobs in lower developed cities."
   ]
  },
  {
   "cell_type": "markdown",
   "metadata": {},
   "source": [
    "## Training Hours Comparison"
   ]
  },
  {
   "cell_type": "code",
   "execution_count": 82,
   "metadata": {
    "ExecuteTime": {
     "end_time": "2021-07-16T03:25:48.440490Z",
     "start_time": "2021-07-16T03:25:47.856366Z"
    },
    "scrolled": false
   },
   "outputs": [
    {
     "data": {
      "image/png": "[encoded data removed]",
      "text/plain": [
       "<Figure size 720x576 with 1 Axes>"
      ]
     },
     "metadata": {
      "needs_background": "light"
     },
     "output_type": "display_data"
    }
   ],
   "source": [
    "fig, ax = plt.subplots(figsize=(10,8))\n",
    "\n",
    "# Iterate through target label\n",
    "for t in df_drop.target.unique():\n",
    "    # Create temp dataframe for the genre being iterated on\n",
    "    frame = df_drop[df_drop.target==t]\n",
    "    \n",
    "    # Create list of sample_means of size 100 to plot distributions of averagerating.\n",
    "    # Set up city dev index comparison\n",
    "    sample_means = [np.random.choice(frame.training_hours, replace=True, size=len(frame)).mean() for x in range(100)]\n",
    "    plt.hist(sample_means, label=t,alpha=0.6)\n",
    "    \n",
    "plt.legend()\n",
    "plt.ylabel('Count',fontsize=16)\n",
    "plt.xlabel('Training Hours',fontsize=16)\n",
    "plt.title('Training Hours Target Comparison',fontsize=16)\n",
    "\n",
    "# Format and save fig\n",
    "plt.savefig('TrainingHours_Comparison.jpg',dpi=300, bbox_inches = 'tight')"
   ]
  },
  {
   "cell_type": "markdown",
   "metadata": {},
   "source": [
    "In the visual above, I bootstrapped the target variables to generate a distribution over each targets' training hours to provide a comparison of how the number of training hours completed plays as a factor for whether a person looks for a new job or not after completing data science training. We can observe that people who are not looking for a new job typically spend more hours training versus people who are looking for a new job."
   ]
  },
  {
   "cell_type": "markdown",
   "metadata": {},
   "source": [
    "## Experience Comparison"
   ]
  },
  {
   "cell_type": "code",
   "execution_count": 83,
   "metadata": {
    "ExecuteTime": {
     "end_time": "2021-07-16T03:25:49.613447Z",
     "start_time": "2021-07-16T03:25:48.442438Z"
    }
   },
   "outputs": [
    {
     "name": "stderr",
     "output_type": "stream",
     "text": [
      "100%|██████████| 100/100 [00:01<00:00, 86.56it/s]\n"
     ]
    }
   ],
   "source": [
    "# Collect 100 samples of the dataframe 100 times\n",
    "plot_df = pd.DataFrame()\n",
    "for i in tqdm(range(100)):\n",
    "    experience_1_sample = df_drop[df_drop['target']==1].sample(n=1000,replace=True)\n",
    "    experience_0_sample = df_drop[df_drop['target']==0].sample(n=1000,replace=True)\n",
    "    \n",
    "    append_0 = pd.DataFrame(experience_0_sample.groupby(['target','experience']).size()).reset_index().rename(columns={0:'Count'})\n",
    "    append_1 = pd.DataFrame(experience_1_sample.groupby(['target','experience']).size()).reset_index().rename(columns={0:'Count'})\n",
    "    \n",
    "    plot_df = plot_df.append(append_0)\n",
    "    plot_df = plot_df.append(append_1)"
   ]
  },
  {
   "cell_type": "code",
   "execution_count": 84,
   "metadata": {
    "ExecuteTime": {
     "end_time": "2021-07-16T03:25:49.629398Z",
     "start_time": "2021-07-16T03:25:49.615443Z"
    }
   },
   "outputs": [
    {
     "name": "stdout",
     "output_type": "stream",
     "text": [
      "(4397, 3)\n"
     ]
    },
    {
     "data": {
      "text/html": [
       "<div>\n",
       "<style scoped>\n",
       "    .dataframe tbody tr th:only-of-type {\n",
       "        vertical-align: middle;\n",
       "    }\n",
       "\n",
       "    .dataframe tbody tr th {\n",
       "        vertical-align: top;\n",
       "    }\n",
       "\n",
       "    .dataframe thead th {\n",
       "        text-align: right;\n",
       "    }\n",
       "</style>\n",
       "<table border=\"1\" class=\"dataframe\">\n",
       "  <thead>\n",
       "    <tr style=\"text-align: right;\">\n",
       "      <th></th>\n",
       "      <th>target</th>\n",
       "      <th>experience</th>\n",
       "      <th>Count</th>\n",
       "    </tr>\n",
       "  </thead>\n",
       "  <tbody>\n",
       "    <tr>\n",
       "      <th>0</th>\n",
       "      <td>0</td>\n",
       "      <td>1</td>\n",
       "      <td>10</td>\n",
       "    </tr>\n",
       "    <tr>\n",
       "      <th>1</th>\n",
       "      <td>0</td>\n",
       "      <td>10</td>\n",
       "      <td>59</td>\n",
       "    </tr>\n",
       "    <tr>\n",
       "      <th>2</th>\n",
       "      <td>0</td>\n",
       "      <td>11</td>\n",
       "      <td>45</td>\n",
       "    </tr>\n",
       "    <tr>\n",
       "      <th>3</th>\n",
       "      <td>0</td>\n",
       "      <td>12</td>\n",
       "      <td>34</td>\n",
       "    </tr>\n",
       "    <tr>\n",
       "      <th>4</th>\n",
       "      <td>0</td>\n",
       "      <td>13</td>\n",
       "      <td>23</td>\n",
       "    </tr>\n",
       "  </tbody>\n",
       "</table>\n",
       "</div>"
      ],
      "text/plain": [
       "   target experience  Count\n",
       "0       0          1     10\n",
       "1       0         10     59\n",
       "2       0         11     45\n",
       "3       0         12     34\n",
       "4       0         13     23"
      ]
     },
     "execution_count": 84,
     "metadata": {},
     "output_type": "execute_result"
    }
   ],
   "source": [
    "print(plot_df.shape)\n",
    "plot_df.head()"
   ]
  },
  {
   "cell_type": "code",
   "execution_count": 85,
   "metadata": {
    "ExecuteTime": {
     "end_time": "2021-07-16T03:25:51.975122Z",
     "start_time": "2021-07-16T03:25:49.631390Z"
    },
    "scrolled": false
   },
   "outputs": [
    {
     "data": {
      "image/png": "[encoded data removed]",
      "text/plain": [
       "<Figure size 1194.38x576 with 1 Axes>"
      ]
     },
     "metadata": {
      "needs_background": "light"
     },
     "output_type": "display_data"
    }
   ],
   "source": [
    "# Plot df\n",
    "order = [ '<1', \n",
    "           '1', \n",
    "           '2', \n",
    "           '3', \n",
    "           '4', \n",
    "           '5', \n",
    "           '6', \n",
    "           '7', \n",
    "           '8', \n",
    "           '9', \n",
    "           '10', \n",
    "           '11', \n",
    "           '12', \n",
    "           '13', \n",
    "           '14', \n",
    "           '15', \n",
    "           '16', \n",
    "           '17', \n",
    "           '18', \n",
    "           '19', \n",
    "           '20', \n",
    "           '>20' ]\n",
    "\n",
    "sns.catplot(x=\"experience\", y=\"Count\", hue=\"target\", kind=\"bar\", data=plot_df, order=order, height=8, aspect=2)\n",
    "plt.xlabel('Experience Level',fontsize=16)\n",
    "plt.ylabel('Count',fontsize=16)\n",
    "plt.title('Experience Level Target Comparison',fontsize=18)\n",
    "\n",
    "# Format and save fig\n",
    "plt.savefig('ExperienceLevel_Comparison.jpg',dpi=300, bbox_inches = 'tight')"
   ]
  },
  {
   "cell_type": "markdown",
   "metadata": {},
   "source": [
    "Lastly, through a similar bootstrapping method used in the above two visuals, I looked at how years of experience play as a factor for people looking for a new job or not. It appears that typically people with 9 years or less experience are more open to looking for new roles compared to people who have 10+ years of experience, where they are more likely to stay put in their current role. "
   ]
  },
  {
   "cell_type": "markdown",
   "metadata": {},
   "source": [
    "# Conclusion"
   ]
  },
  {
   "cell_type": "markdown",
   "metadata": {},
   "source": [
    "Regarding the features that have the most impact of a person's decision into looking for a new role or not, I would highlight City Development Index (city development score of where the employee is from), the number of training hours completed, and the amount of experience an employee has as the top 3 factors. Moreover, from a modeling stand point, I would continue to iterate on the XGBoost model in hopes of collecting more data on people who are looking for a new job to counteract the imbalance of the dataset. Currently, our model is still performing quite poorly on our recall metric -- roughly 0.49 for our class of employees looking for a new role. Given the company's objective to reduce cost, and lost time for employees looking for a new role, we would want to correctly identify employees looking for a new role, and avoid mistaking these employees for those looking to stay. Otherwise, if we think an employee is staying, but in reality they are leaving, then there associated cost and time."
   ]
  },
  {
   "cell_type": "markdown",
   "metadata": {},
   "source": [
    "# Next steps"
   ]
  },
  {
   "cell_type": "markdown",
   "metadata": {},
   "source": [
    "Based on the presented analysis, there are more steps we can take to improve our model. One step is to continue experimenting with other methods of missing data imputation, and build iterative modelling on top of these other methods. Another step that will take a collective effort from the company is prioritizing data quality, and ensuring no further missing data. The last note to best improve the model is to collect more high quality data, especially data on employees looking to leave their role."
   ]
  },
  {
   "cell_type": "markdown",
   "metadata": {
    "ExecuteTime": {
     "end_time": "2021-07-16T02:45:53.076994Z",
     "start_time": "2021-07-16T02:45:52.132315Z"
    }
   },
   "source": [
    "# Sources"
   ]
  },
  {
   "cell_type": "markdown",
   "metadata": {
    "ExecuteTime": {
     "end_time": "2021-07-16T02:46:34.069759Z",
     "start_time": "2021-07-16T02:46:34.054520Z"
    }
   },
   "source": [
    "- “ROC Curves and Precision Recall Curves for Classification in Python.” Machine Learning Mastery, https://machinelearningmastery.com/roc-curves-and-precision-recall-curves-for-classification-in-python/\n",
    "- “How to Use ROC Curves and Precision-Recall Curves for Classification in Python”, Machine Learning Mastery, https://machinelearningmastery.com/roc-curves-and-precision-recall-curves-for-classification-in-python/\n",
    "- Brownlee, Jason. Data Preparation for Machine Learning: Data Cleaning, Feature Selection, and Data Transforms in Python. V 1.2 Data Preparation for Machine Learning, 2021"
   ]
  }
 ],
 "metadata": {
  "kernelspec": {
   "display_name": "learn-env",
   "language": "python",
   "name": "learn-env"
  },
  "language_info": {
   "codemirror_mode": {
    "name": "ipython",
    "version": 3
   },
   "file_extension": ".py",
   "mimetype": "text/x-python",
   "name": "python",
   "nbconvert_exporter": "python",
   "pygments_lexer": "ipython3",
   "version": "3.8.5"
  },
  "toc": {
   "base_numbering": 1,
   "nav_menu": {},
   "number_sections": true,
   "sideBar": true,
   "skip_h1_title": false,
   "title_cell": "Table of Contents",
   "title_sidebar": "Contents",
   "toc_cell": false,
   "toc_position": {
    "height": "calc(100% - 180px)",
    "left": "10px",
    "top": "150px",
    "width": "330.25px"
   },
   "toc_section_display": true,
   "toc_window_display": false
  },
  "varInspector": {
   "cols": {
    "lenName": 16,
    "lenType": 16,
    "lenVar": 40
   },
   "kernels_config": {
    "python": {
     "delete_cmd_postfix": "",
     "delete_cmd_prefix": "del ",
     "library": "var_list.py",
     "varRefreshCmd": "print(var_dic_list())"
    },
    "r": {
     "delete_cmd_postfix": ") ",
     "delete_cmd_prefix": "rm(",
     "library": "var_list.r",
     "varRefreshCmd": "cat(var_dic_list()) "
    }
   },
   "types_to_exclude": [
    "module",
    "function",
    "builtin_function_or_method",
    "instance",
    "_Feature"
   ],
   "window_display": false
  }
 },
 "nbformat": 4,
 "nbformat_minor": 4
}
